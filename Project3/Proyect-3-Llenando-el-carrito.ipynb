{
 "cells": [
  {
   "cell_type": "markdown",
   "id": "3Xg_RQfnafXz",
   "metadata": {
    "id": "3Xg_RQfnafXz"
   },
   "source": [
    "# ¡Llena ese carrito!"
   ]
  },
  {
   "cell_type": "markdown",
   "id": "mhIvmmkW414q",
   "metadata": {
    "id": "mhIvmmkW414q"
   },
   "source": [
    "# Introducción\n",
    "\n",
    "Instacart es una plataforma de entregas de comestibles donde la clientela puede registrar un pedido y hacer que se lo entreguen, similar a Uber Eats y Door Dash.\n",
    "El conjunto de datos que te hemos proporcionado tiene modificaciones del original. Redujimos el tamaño del conjunto para que tus cálculos se hicieran más rápido e introdujimos valores ausentes y duplicados. Tuvimos cuidado de conservar las distribuciones de los datos originales cuando hicimos los cambios.\n",
    "\n",
    "Debes completar tres pasos. Para cada uno de ellos, escribe una breve introducción que refleje con claridad cómo pretendes resolver cada paso, y escribe párrafos explicatorios que justifiquen tus decisiones al tiempo que avanzas en tu solución.  También escribe una conclusión que resuma tus hallazgos y elecciones.\n"
   ]
  },
  {
   "cell_type": "markdown",
   "id": "3MbyzpOQZ5Or",
   "metadata": {
    "id": "3MbyzpOQZ5Or"
   },
   "source": [
    "## Diccionario de datos\n",
    "\n",
    "Hay cinco tablas en el conjunto de datos, y tendrás que usarlas todas para hacer el preprocesamiento de datos y el análisis exploratorio de datos. A continuación se muestra un diccionario de datos que enumera las columnas de cada tabla y describe los datos que contienen.\n",
    "\n",
    "- `instacart_orders.csv`: cada fila corresponde a un pedido en la aplicación Instacart.\n",
    "    - `'order_id'`: número de ID que identifica de manera única cada pedido.\n",
    "    - `'user_id'`: número de ID que identifica de manera única la cuenta de cada cliente.\n",
    "    - `'order_number'`: el número de veces que este cliente ha hecho un pedido.\n",
    "    - `'order_dow'`: día de la semana en que se hizo el pedido (0 si es domingo).\n",
    "    - `'order_hour_of_day'`: hora del día en que se hizo el pedido.\n",
    "    - `'days_since_prior_order'`: número de días transcurridos desde que este cliente hizo su pedido anterior.\n",
    "- `products.csv`: cada fila corresponde a un producto único que pueden comprar los clientes.\n",
    "    - `'product_id'`: número ID que identifica de manera única cada producto.\n",
    "    - `'product_name'`: nombre del producto.\n",
    "    - `'aisle_id'`: número ID que identifica de manera única cada categoría de pasillo de víveres.\n",
    "    - `'department_id'`: número ID que identifica de manera única cada departamento de víveres.\n",
    "- `order_products.csv`: cada fila corresponde a un artículo pedido en un pedido.\n",
    "    - `'order_id'`: número de ID que identifica de manera única cada pedido.\n",
    "    - `'product_id'`: número ID que identifica de manera única cada producto.\n",
    "    - `'add_to_cart_order'`: el orden secuencial en el que se añadió cada artículo en el carrito.\n",
    "    - `'reordered'`: 0 si el cliente nunca ha pedido este producto antes, 1 si lo ha pedido.\n",
    "- `aisles.csv`\n",
    "    - `'aisle_id'`: número ID que identifica de manera única cada categoría de pasillo de víveres.\n",
    "    - `'aisle'`: nombre del pasillo.\n",
    "- `departments.csv`\n",
    "    - `'department_id'`: número ID que identifica de manera única cada departamento de víveres.\n",
    "    - `'department'`: nombre del departamento."
   ]
  },
  {
   "cell_type": "markdown",
   "id": "n3Ha_cNSZ8lK",
   "metadata": {
    "id": "n3Ha_cNSZ8lK"
   },
   "source": [
    "# Paso 1. Descripción de los datos\n",
    "\n",
    "Lee los archivos de datos (`/datasets/instacart_orders.csv`, `/datasets/products.csv`, `/datasets/aisles.csv`, `/datasets/departments.csv` y `/datasets/order_products.csv`) con `pd.read_csv()` usando los parámetros adecuados para leer los datos correctamente. Verifica la información para cada DataFrame creado.\n"
   ]
  },
  {
   "cell_type": "markdown",
   "id": "OmlQPLlyaAfR",
   "metadata": {
    "id": "OmlQPLlyaAfR"
   },
   "source": [
    "## Plan de solución\n",
    "\n",
    "Escribe aquí tu plan de solución para el Paso 1. Descripción de los datos."
   ]
  },
  {
   "cell_type": "code",
   "execution_count": 2,
   "id": "fbf1adab",
   "metadata": {
    "id": "fbf1adab"
   },
   "outputs": [],
   "source": [
    "# importar librerías\n",
    "import pandas as pd\n",
    "import numpy as np\n",
    "import seaborn as sns\n",
    "from matplotlib import pyplot as plt"
   ]
  },
  {
   "cell_type": "code",
   "execution_count": 3,
   "id": "ad36396d",
   "metadata": {
    "id": "ad36396d"
   },
   "outputs": [],
   "source": [
    "# leer conjuntos de datos en los DataFrames\n",
    "df_aisles = pd.read_csv('aisles.csv', sep=';')\n",
    "df_departments = pd.read_csv('departments.csv', sep=';')\n",
    "df_instacar_orders = pd.read_csv('instacart_orders.csv', sep=';')\n",
    "df_order_products = pd.read_csv('order_products.csv', sep=';')\n",
    "df_products = pd.read_csv('products.csv', sep=';')"
   ]
  },
  {
   "cell_type": "code",
   "execution_count": 4,
   "id": "ad6a1efa",
   "metadata": {
    "id": "ad6a1efa"
   },
   "outputs": [
    {
     "name": "stdout",
     "output_type": "stream",
     "text": [
      "<class 'pandas.core.frame.DataFrame'>\n",
      "RangeIndex: 134 entries, 0 to 133\n",
      "Data columns (total 2 columns):\n",
      " #   Column    Non-Null Count  Dtype \n",
      "---  ------    --------------  ----- \n",
      " 0   aisle_id  134 non-null    int64 \n",
      " 1   aisle     134 non-null    object\n",
      "dtypes: int64(1), object(1)\n",
      "memory usage: 2.2+ KB\n"
     ]
    },
    {
     "data": {
      "text/html": [
       "<div>\n",
       "<style scoped>\n",
       "    .dataframe tbody tr th:only-of-type {\n",
       "        vertical-align: middle;\n",
       "    }\n",
       "\n",
       "    .dataframe tbody tr th {\n",
       "        vertical-align: top;\n",
       "    }\n",
       "\n",
       "    .dataframe thead th {\n",
       "        text-align: right;\n",
       "    }\n",
       "</style>\n",
       "<table border=\"1\" class=\"dataframe\">\n",
       "  <thead>\n",
       "    <tr style=\"text-align: right;\">\n",
       "      <th></th>\n",
       "      <th>aisle_id</th>\n",
       "      <th>aisle</th>\n",
       "    </tr>\n",
       "  </thead>\n",
       "  <tbody>\n",
       "    <tr>\n",
       "      <th>0</th>\n",
       "      <td>1</td>\n",
       "      <td>prepared soups salads</td>\n",
       "    </tr>\n",
       "    <tr>\n",
       "      <th>1</th>\n",
       "      <td>2</td>\n",
       "      <td>specialty cheeses</td>\n",
       "    </tr>\n",
       "    <tr>\n",
       "      <th>2</th>\n",
       "      <td>3</td>\n",
       "      <td>energy granola bars</td>\n",
       "    </tr>\n",
       "    <tr>\n",
       "      <th>3</th>\n",
       "      <td>4</td>\n",
       "      <td>instant foods</td>\n",
       "    </tr>\n",
       "    <tr>\n",
       "      <th>4</th>\n",
       "      <td>5</td>\n",
       "      <td>marinades meat preparation</td>\n",
       "    </tr>\n",
       "  </tbody>\n",
       "</table>\n",
       "</div>"
      ],
      "text/plain": [
       "   aisle_id                       aisle\n",
       "0         1       prepared soups salads\n",
       "1         2           specialty cheeses\n",
       "2         3         energy granola bars\n",
       "3         4               instant foods\n",
       "4         5  marinades meat preparation"
      ]
     },
     "execution_count": 4,
     "metadata": {},
     "output_type": "execute_result"
    }
   ],
   "source": [
    "# mostrar información del DataFrame\n",
    "df_aisles.info() \n",
    "df_aisles.head(5)"
   ]
  },
  {
   "cell_type": "code",
   "execution_count": 5,
   "id": "5130e05e",
   "metadata": {
    "id": "5130e05e"
   },
   "outputs": [
    {
     "name": "stdout",
     "output_type": "stream",
     "text": [
      "<class 'pandas.core.frame.DataFrame'>\n",
      "RangeIndex: 21 entries, 0 to 20\n",
      "Data columns (total 2 columns):\n",
      " #   Column         Non-Null Count  Dtype \n",
      "---  ------         --------------  ----- \n",
      " 0   department_id  21 non-null     int64 \n",
      " 1   department     21 non-null     object\n",
      "dtypes: int64(1), object(1)\n",
      "memory usage: 464.0+ bytes\n"
     ]
    },
    {
     "data": {
      "text/html": [
       "<div>\n",
       "<style scoped>\n",
       "    .dataframe tbody tr th:only-of-type {\n",
       "        vertical-align: middle;\n",
       "    }\n",
       "\n",
       "    .dataframe tbody tr th {\n",
       "        vertical-align: top;\n",
       "    }\n",
       "\n",
       "    .dataframe thead th {\n",
       "        text-align: right;\n",
       "    }\n",
       "</style>\n",
       "<table border=\"1\" class=\"dataframe\">\n",
       "  <thead>\n",
       "    <tr style=\"text-align: right;\">\n",
       "      <th></th>\n",
       "      <th>department_id</th>\n",
       "      <th>department</th>\n",
       "    </tr>\n",
       "  </thead>\n",
       "  <tbody>\n",
       "    <tr>\n",
       "      <th>0</th>\n",
       "      <td>1</td>\n",
       "      <td>frozen</td>\n",
       "    </tr>\n",
       "    <tr>\n",
       "      <th>1</th>\n",
       "      <td>2</td>\n",
       "      <td>other</td>\n",
       "    </tr>\n",
       "    <tr>\n",
       "      <th>2</th>\n",
       "      <td>3</td>\n",
       "      <td>bakery</td>\n",
       "    </tr>\n",
       "    <tr>\n",
       "      <th>3</th>\n",
       "      <td>4</td>\n",
       "      <td>produce</td>\n",
       "    </tr>\n",
       "    <tr>\n",
       "      <th>4</th>\n",
       "      <td>5</td>\n",
       "      <td>alcohol</td>\n",
       "    </tr>\n",
       "  </tbody>\n",
       "</table>\n",
       "</div>"
      ],
      "text/plain": [
       "   department_id department\n",
       "0              1     frozen\n",
       "1              2      other\n",
       "2              3     bakery\n",
       "3              4    produce\n",
       "4              5    alcohol"
      ]
     },
     "execution_count": 5,
     "metadata": {},
     "output_type": "execute_result"
    }
   ],
   "source": [
    "# mostrar información del DataFrame\n",
    "df_departments.info() \n",
    "df_departments.head(5)"
   ]
  },
  {
   "cell_type": "code",
   "execution_count": 6,
   "id": "d8370c05",
   "metadata": {
    "id": "d8370c05"
   },
   "outputs": [
    {
     "name": "stdout",
     "output_type": "stream",
     "text": [
      "<class 'pandas.core.frame.DataFrame'>\n",
      "RangeIndex: 478967 entries, 0 to 478966\n",
      "Data columns (total 6 columns):\n",
      " #   Column                  Non-Null Count   Dtype  \n",
      "---  ------                  --------------   -----  \n",
      " 0   order_id                478967 non-null  int64  \n",
      " 1   user_id                 478967 non-null  int64  \n",
      " 2   order_number            478967 non-null  int64  \n",
      " 3   order_dow               478967 non-null  int64  \n",
      " 4   order_hour_of_day       478967 non-null  int64  \n",
      " 5   days_since_prior_order  450148 non-null  float64\n",
      "dtypes: float64(1), int64(5)\n",
      "memory usage: 21.9 MB\n"
     ]
    },
    {
     "data": {
      "text/html": [
       "<div>\n",
       "<style scoped>\n",
       "    .dataframe tbody tr th:only-of-type {\n",
       "        vertical-align: middle;\n",
       "    }\n",
       "\n",
       "    .dataframe tbody tr th {\n",
       "        vertical-align: top;\n",
       "    }\n",
       "\n",
       "    .dataframe thead th {\n",
       "        text-align: right;\n",
       "    }\n",
       "</style>\n",
       "<table border=\"1\" class=\"dataframe\">\n",
       "  <thead>\n",
       "    <tr style=\"text-align: right;\">\n",
       "      <th></th>\n",
       "      <th>order_id</th>\n",
       "      <th>user_id</th>\n",
       "      <th>order_number</th>\n",
       "      <th>order_dow</th>\n",
       "      <th>order_hour_of_day</th>\n",
       "      <th>days_since_prior_order</th>\n",
       "    </tr>\n",
       "  </thead>\n",
       "  <tbody>\n",
       "    <tr>\n",
       "      <th>0</th>\n",
       "      <td>1515936</td>\n",
       "      <td>183418</td>\n",
       "      <td>11</td>\n",
       "      <td>6</td>\n",
       "      <td>13</td>\n",
       "      <td>30.0</td>\n",
       "    </tr>\n",
       "    <tr>\n",
       "      <th>1</th>\n",
       "      <td>1690866</td>\n",
       "      <td>163593</td>\n",
       "      <td>5</td>\n",
       "      <td>5</td>\n",
       "      <td>12</td>\n",
       "      <td>9.0</td>\n",
       "    </tr>\n",
       "    <tr>\n",
       "      <th>2</th>\n",
       "      <td>1454967</td>\n",
       "      <td>39980</td>\n",
       "      <td>4</td>\n",
       "      <td>5</td>\n",
       "      <td>19</td>\n",
       "      <td>2.0</td>\n",
       "    </tr>\n",
       "    <tr>\n",
       "      <th>3</th>\n",
       "      <td>1768857</td>\n",
       "      <td>82516</td>\n",
       "      <td>56</td>\n",
       "      <td>0</td>\n",
       "      <td>20</td>\n",
       "      <td>10.0</td>\n",
       "    </tr>\n",
       "    <tr>\n",
       "      <th>4</th>\n",
       "      <td>3007858</td>\n",
       "      <td>196724</td>\n",
       "      <td>2</td>\n",
       "      <td>4</td>\n",
       "      <td>12</td>\n",
       "      <td>17.0</td>\n",
       "    </tr>\n",
       "  </tbody>\n",
       "</table>\n",
       "</div>"
      ],
      "text/plain": [
       "   order_id  user_id  order_number  order_dow  order_hour_of_day  \\\n",
       "0   1515936   183418            11          6                 13   \n",
       "1   1690866   163593             5          5                 12   \n",
       "2   1454967    39980             4          5                 19   \n",
       "3   1768857    82516            56          0                 20   \n",
       "4   3007858   196724             2          4                 12   \n",
       "\n",
       "   days_since_prior_order  \n",
       "0                    30.0  \n",
       "1                     9.0  \n",
       "2                     2.0  \n",
       "3                    10.0  \n",
       "4                    17.0  "
      ]
     },
     "execution_count": 6,
     "metadata": {},
     "output_type": "execute_result"
    }
   ],
   "source": [
    "# mostrar información del DataFrame\n",
    "df_instacar_orders.info() \n",
    "df_instacar_orders.head(5)"
   ]
  },
  {
   "cell_type": "code",
   "execution_count": 7,
   "id": "59e2090f",
   "metadata": {
    "id": "59e2090f"
   },
   "outputs": [
    {
     "name": "stdout",
     "output_type": "stream",
     "text": [
      "<class 'pandas.core.frame.DataFrame'>\n",
      "RangeIndex: 4545007 entries, 0 to 4545006\n",
      "Data columns (total 4 columns):\n",
      " #   Column             Non-Null Count    Dtype  \n",
      "---  ------             --------------    -----  \n",
      " 0   order_id           4545007 non-null  int64  \n",
      " 1   product_id         4545007 non-null  int64  \n",
      " 2   add_to_cart_order  4544171 non-null  float64\n",
      " 3   reordered          4545007 non-null  int64  \n",
      "dtypes: float64(1), int64(3)\n",
      "memory usage: 138.7 MB\n"
     ]
    },
    {
     "data": {
      "text/html": [
       "<div>\n",
       "<style scoped>\n",
       "    .dataframe tbody tr th:only-of-type {\n",
       "        vertical-align: middle;\n",
       "    }\n",
       "\n",
       "    .dataframe tbody tr th {\n",
       "        vertical-align: top;\n",
       "    }\n",
       "\n",
       "    .dataframe thead th {\n",
       "        text-align: right;\n",
       "    }\n",
       "</style>\n",
       "<table border=\"1\" class=\"dataframe\">\n",
       "  <thead>\n",
       "    <tr style=\"text-align: right;\">\n",
       "      <th></th>\n",
       "      <th>order_id</th>\n",
       "      <th>product_id</th>\n",
       "      <th>add_to_cart_order</th>\n",
       "      <th>reordered</th>\n",
       "    </tr>\n",
       "  </thead>\n",
       "  <tbody>\n",
       "    <tr>\n",
       "      <th>0</th>\n",
       "      <td>2141543</td>\n",
       "      <td>11440</td>\n",
       "      <td>17.0</td>\n",
       "      <td>0</td>\n",
       "    </tr>\n",
       "    <tr>\n",
       "      <th>1</th>\n",
       "      <td>567889</td>\n",
       "      <td>1560</td>\n",
       "      <td>1.0</td>\n",
       "      <td>1</td>\n",
       "    </tr>\n",
       "    <tr>\n",
       "      <th>2</th>\n",
       "      <td>2261212</td>\n",
       "      <td>26683</td>\n",
       "      <td>1.0</td>\n",
       "      <td>1</td>\n",
       "    </tr>\n",
       "    <tr>\n",
       "      <th>3</th>\n",
       "      <td>491251</td>\n",
       "      <td>8670</td>\n",
       "      <td>35.0</td>\n",
       "      <td>1</td>\n",
       "    </tr>\n",
       "    <tr>\n",
       "      <th>4</th>\n",
       "      <td>2571142</td>\n",
       "      <td>1940</td>\n",
       "      <td>5.0</td>\n",
       "      <td>1</td>\n",
       "    </tr>\n",
       "  </tbody>\n",
       "</table>\n",
       "</div>"
      ],
      "text/plain": [
       "   order_id  product_id  add_to_cart_order  reordered\n",
       "0   2141543       11440               17.0          0\n",
       "1    567889        1560                1.0          1\n",
       "2   2261212       26683                1.0          1\n",
       "3    491251        8670               35.0          1\n",
       "4   2571142        1940                5.0          1"
      ]
     },
     "execution_count": 7,
     "metadata": {},
     "output_type": "execute_result"
    }
   ],
   "source": [
    "# mostrar información del DataFrame\n",
    "df_order_products.info(show_counts=True) \n",
    "df_order_products.head(5)"
   ]
  },
  {
   "cell_type": "code",
   "execution_count": 8,
   "id": "6fc81694",
   "metadata": {
    "id": "6fc81694"
   },
   "outputs": [
    {
     "name": "stdout",
     "output_type": "stream",
     "text": [
      "<class 'pandas.core.frame.DataFrame'>\n",
      "RangeIndex: 49694 entries, 0 to 49693\n",
      "Data columns (total 4 columns):\n",
      " #   Column         Non-Null Count  Dtype \n",
      "---  ------         --------------  ----- \n",
      " 0   product_id     49694 non-null  int64 \n",
      " 1   product_name   48436 non-null  object\n",
      " 2   aisle_id       49694 non-null  int64 \n",
      " 3   department_id  49694 non-null  int64 \n",
      "dtypes: int64(3), object(1)\n",
      "memory usage: 1.5+ MB\n"
     ]
    },
    {
     "data": {
      "text/html": [
       "<div>\n",
       "<style scoped>\n",
       "    .dataframe tbody tr th:only-of-type {\n",
       "        vertical-align: middle;\n",
       "    }\n",
       "\n",
       "    .dataframe tbody tr th {\n",
       "        vertical-align: top;\n",
       "    }\n",
       "\n",
       "    .dataframe thead th {\n",
       "        text-align: right;\n",
       "    }\n",
       "</style>\n",
       "<table border=\"1\" class=\"dataframe\">\n",
       "  <thead>\n",
       "    <tr style=\"text-align: right;\">\n",
       "      <th></th>\n",
       "      <th>product_id</th>\n",
       "      <th>product_name</th>\n",
       "      <th>aisle_id</th>\n",
       "      <th>department_id</th>\n",
       "    </tr>\n",
       "  </thead>\n",
       "  <tbody>\n",
       "    <tr>\n",
       "      <th>0</th>\n",
       "      <td>1</td>\n",
       "      <td>Chocolate Sandwich Cookies</td>\n",
       "      <td>61</td>\n",
       "      <td>19</td>\n",
       "    </tr>\n",
       "    <tr>\n",
       "      <th>1</th>\n",
       "      <td>2</td>\n",
       "      <td>All-Seasons Salt</td>\n",
       "      <td>104</td>\n",
       "      <td>13</td>\n",
       "    </tr>\n",
       "    <tr>\n",
       "      <th>2</th>\n",
       "      <td>3</td>\n",
       "      <td>Robust Golden Unsweetened Oolong Tea</td>\n",
       "      <td>94</td>\n",
       "      <td>7</td>\n",
       "    </tr>\n",
       "    <tr>\n",
       "      <th>3</th>\n",
       "      <td>4</td>\n",
       "      <td>Smart Ones Classic Favorites Mini Rigatoni Wit...</td>\n",
       "      <td>38</td>\n",
       "      <td>1</td>\n",
       "    </tr>\n",
       "    <tr>\n",
       "      <th>4</th>\n",
       "      <td>5</td>\n",
       "      <td>Green Chile Anytime Sauce</td>\n",
       "      <td>5</td>\n",
       "      <td>13</td>\n",
       "    </tr>\n",
       "  </tbody>\n",
       "</table>\n",
       "</div>"
      ],
      "text/plain": [
       "   product_id                                       product_name  aisle_id  \\\n",
       "0           1                         Chocolate Sandwich Cookies        61   \n",
       "1           2                                   All-Seasons Salt       104   \n",
       "2           3               Robust Golden Unsweetened Oolong Tea        94   \n",
       "3           4  Smart Ones Classic Favorites Mini Rigatoni Wit...        38   \n",
       "4           5                          Green Chile Anytime Sauce         5   \n",
       "\n",
       "   department_id  \n",
       "0             19  \n",
       "1             13  \n",
       "2              7  \n",
       "3              1  \n",
       "4             13  "
      ]
     },
     "execution_count": 8,
     "metadata": {},
     "output_type": "execute_result"
    }
   ],
   "source": [
    "# mostrar información del DataFrame\n",
    "df_products.info() \n",
    "df_products.head(5)"
   ]
  },
  {
   "cell_type": "code",
   "execution_count": 9,
   "id": "158298eb",
   "metadata": {},
   "outputs": [
    {
     "data": {
      "text/plain": [
       "0         61\n",
       "1        104\n",
       "2         94\n",
       "3         38\n",
       "4          5\n",
       "        ... \n",
       "49689     64\n",
       "49690    130\n",
       "49691    130\n",
       "49692    127\n",
       "49693     38\n",
       "Name: aisle_id, Length: 49694, dtype: int64"
      ]
     },
     "execution_count": 9,
     "metadata": {},
     "output_type": "execute_result"
    }
   ],
   "source": [
    "df_products['aisle_id']"
   ]
  },
  {
   "cell_type": "markdown",
   "id": "t75BD19oaR5f",
   "metadata": {
    "id": "t75BD19oaR5f"
   },
   "source": [
    "## Conclusiones\n",
    "\n",
    "Escribe aquí tus conclusiones intermedias sobre el Paso 1. Descripción de los datos.\n",
    "\n",
    "En primera instancia, se pudo constatar en los datos que se tienen: \n",
    "-existencia de caracteres especiales en los strings del nombre del producto, \n",
    "-existencia de 15 registros duplicados en el dataset de instacar_order,\n",
    "-presencia de celdas con datos faltantes, tal y como ocurre en la tabla products, en la fila, en el producto 5833, \n",
    "por otra parte, los registros están separados por el signo de ;, lo cual conlleva leer los datasets indicando el separador ;."
   ]
  },
  {
   "cell_type": "markdown",
   "id": "8RJHqxVmaVsF",
   "metadata": {
    "id": "8RJHqxVmaVsF"
   },
   "source": [
    "# Paso 2. Preprocesamiento de los datos\n",
    "\n",
    "Preprocesa los datos de la siguiente manera:\n",
    "\n",
    "- Verifica y corrige los tipos de datos (por ejemplo, asegúrate de que las columnas de ID sean números enteros).\n",
    "- Identifica y completa los valores ausentes.\n",
    "- Identifica y elimina los valores duplicados.\n",
    "\n",
    "Asegúrate de explicar qué tipos de valores ausentes y duplicados encontraste, cómo los completaste o eliminaste y por qué usaste esos métodos. ¿Por qué crees que estos valores ausentes y duplicados pueden haber estado presentes en el conjunto de datos?"
   ]
  },
  {
   "cell_type": "markdown",
   "id": "p6poABZQaZYb",
   "metadata": {
    "id": "p6poABZQaZYb"
   },
   "source": [
    "## Plan de solución\n",
    "\n",
    "Escribe aquí tu plan para el Paso 2. Preprocesamiento de los datos.\n",
    "Escribe aquí tu plan para el Paso 2. Preprocesamiento de los datos.\n",
    "\n",
    "- `Lista de acciones:`\n",
    "    - `1`: Examinar los nombres de las columnas para detectar inconsistencias\n",
    "    - `2`: Abordar los valores duplicados y mitigar sus efectos con las herramientas que se tienen.\n",
    "    - `3`: Afrontar los valores ausentes.\n",
    "    - `4`: Como último paso (tal vez), y en aras de redondear una etapa de Preprocesamiento más acabada, se podría considerar incluir la exploración y detección de datos atípicos (outliers) y su mitigación, así como la identificación de datos desbalanceados si fuera el caso."
   ]
  },
  {
   "cell_type": "markdown",
   "id": "07357848-dc64-4156-9cc3-01ff4365226d",
   "metadata": {
    "id": "07357848-dc64-4156-9cc3-01ff4365226d"
   },
   "source": [
    "## Encuentra y elimina los valores duplicados (y describe cómo tomaste tus decisiones)."
   ]
  },
  {
   "cell_type": "markdown",
   "id": "f179f0a9",
   "metadata": {
    "id": "f179f0a9"
   },
   "source": [
    "### `orders` data frame"
   ]
  },
  {
   "cell_type": "code",
   "execution_count": 10,
   "id": "b99297a5-405a-463d-8535-9adc3da4ad74",
   "metadata": {
    "id": "b99297a5-405a-463d-8535-9adc3da4ad74"
   },
   "outputs": [
    {
     "name": "stdout",
     "output_type": "stream",
     "text": [
      "0\n",
      "0\n",
      "15\n",
      "0\n",
      "0\n"
     ]
    }
   ],
   "source": [
    "# Revisa si hay pedidos duplicados\n",
    "print(df_aisles.duplicated().sum())\n",
    "print(df_departments.duplicated().sum())\n",
    "print(df_instacar_orders.duplicated().sum())\n",
    "print(df_order_products.duplicated().sum())\n",
    "print(df_products.duplicated().sum())"
   ]
  },
  {
   "cell_type": "code",
   "execution_count": 11,
   "id": "86ec20d3",
   "metadata": {},
   "outputs": [
    {
     "data": {
      "text/html": [
       "<div>\n",
       "<style scoped>\n",
       "    .dataframe tbody tr th:only-of-type {\n",
       "        vertical-align: middle;\n",
       "    }\n",
       "\n",
       "    .dataframe tbody tr th {\n",
       "        vertical-align: top;\n",
       "    }\n",
       "\n",
       "    .dataframe thead th {\n",
       "        text-align: right;\n",
       "    }\n",
       "</style>\n",
       "<table border=\"1\" class=\"dataframe\">\n",
       "  <thead>\n",
       "    <tr style=\"text-align: right;\">\n",
       "      <th></th>\n",
       "      <th>order_id</th>\n",
       "      <th>user_id</th>\n",
       "      <th>order_number</th>\n",
       "      <th>order_dow</th>\n",
       "      <th>order_hour_of_day</th>\n",
       "      <th>days_since_prior_order</th>\n",
       "    </tr>\n",
       "  </thead>\n",
       "  <tbody>\n",
       "    <tr>\n",
       "      <th>145574</th>\n",
       "      <td>794638</td>\n",
       "      <td>50898</td>\n",
       "      <td>24</td>\n",
       "      <td>3</td>\n",
       "      <td>2</td>\n",
       "      <td>2.0</td>\n",
       "    </tr>\n",
       "    <tr>\n",
       "      <th>223105</th>\n",
       "      <td>2160484</td>\n",
       "      <td>107525</td>\n",
       "      <td>16</td>\n",
       "      <td>3</td>\n",
       "      <td>2</td>\n",
       "      <td>30.0</td>\n",
       "    </tr>\n",
       "    <tr>\n",
       "      <th>230807</th>\n",
       "      <td>1918001</td>\n",
       "      <td>188546</td>\n",
       "      <td>14</td>\n",
       "      <td>3</td>\n",
       "      <td>2</td>\n",
       "      <td>16.0</td>\n",
       "    </tr>\n",
       "    <tr>\n",
       "      <th>266232</th>\n",
       "      <td>1782114</td>\n",
       "      <td>106752</td>\n",
       "      <td>1</td>\n",
       "      <td>3</td>\n",
       "      <td>2</td>\n",
       "      <td>NaN</td>\n",
       "    </tr>\n",
       "    <tr>\n",
       "      <th>273805</th>\n",
       "      <td>1112182</td>\n",
       "      <td>202304</td>\n",
       "      <td>84</td>\n",
       "      <td>3</td>\n",
       "      <td>2</td>\n",
       "      <td>6.0</td>\n",
       "    </tr>\n",
       "    <tr>\n",
       "      <th>284038</th>\n",
       "      <td>2845099</td>\n",
       "      <td>31189</td>\n",
       "      <td>11</td>\n",
       "      <td>3</td>\n",
       "      <td>2</td>\n",
       "      <td>7.0</td>\n",
       "    </tr>\n",
       "    <tr>\n",
       "      <th>311713</th>\n",
       "      <td>1021560</td>\n",
       "      <td>53767</td>\n",
       "      <td>3</td>\n",
       "      <td>3</td>\n",
       "      <td>2</td>\n",
       "      <td>9.0</td>\n",
       "    </tr>\n",
       "    <tr>\n",
       "      <th>321100</th>\n",
       "      <td>408114</td>\n",
       "      <td>68324</td>\n",
       "      <td>4</td>\n",
       "      <td>3</td>\n",
       "      <td>2</td>\n",
       "      <td>18.0</td>\n",
       "    </tr>\n",
       "    <tr>\n",
       "      <th>323900</th>\n",
       "      <td>1919531</td>\n",
       "      <td>191501</td>\n",
       "      <td>32</td>\n",
       "      <td>3</td>\n",
       "      <td>2</td>\n",
       "      <td>7.0</td>\n",
       "    </tr>\n",
       "    <tr>\n",
       "      <th>345917</th>\n",
       "      <td>2232988</td>\n",
       "      <td>82565</td>\n",
       "      <td>1</td>\n",
       "      <td>3</td>\n",
       "      <td>2</td>\n",
       "      <td>NaN</td>\n",
       "    </tr>\n",
       "    <tr>\n",
       "      <th>371905</th>\n",
       "      <td>391768</td>\n",
       "      <td>57671</td>\n",
       "      <td>19</td>\n",
       "      <td>3</td>\n",
       "      <td>2</td>\n",
       "      <td>10.0</td>\n",
       "    </tr>\n",
       "    <tr>\n",
       "      <th>394347</th>\n",
       "      <td>467134</td>\n",
       "      <td>63189</td>\n",
       "      <td>21</td>\n",
       "      <td>3</td>\n",
       "      <td>2</td>\n",
       "      <td>2.0</td>\n",
       "    </tr>\n",
       "    <tr>\n",
       "      <th>411408</th>\n",
       "      <td>1286742</td>\n",
       "      <td>183220</td>\n",
       "      <td>48</td>\n",
       "      <td>3</td>\n",
       "      <td>2</td>\n",
       "      <td>4.0</td>\n",
       "    </tr>\n",
       "    <tr>\n",
       "      <th>415163</th>\n",
       "      <td>2282673</td>\n",
       "      <td>86751</td>\n",
       "      <td>49</td>\n",
       "      <td>3</td>\n",
       "      <td>2</td>\n",
       "      <td>2.0</td>\n",
       "    </tr>\n",
       "    <tr>\n",
       "      <th>441599</th>\n",
       "      <td>2125197</td>\n",
       "      <td>14050</td>\n",
       "      <td>48</td>\n",
       "      <td>3</td>\n",
       "      <td>2</td>\n",
       "      <td>3.0</td>\n",
       "    </tr>\n",
       "  </tbody>\n",
       "</table>\n",
       "</div>"
      ],
      "text/plain": [
       "        order_id  user_id  order_number  order_dow  order_hour_of_day  \\\n",
       "145574    794638    50898            24          3                  2   \n",
       "223105   2160484   107525            16          3                  2   \n",
       "230807   1918001   188546            14          3                  2   \n",
       "266232   1782114   106752             1          3                  2   \n",
       "273805   1112182   202304            84          3                  2   \n",
       "284038   2845099    31189            11          3                  2   \n",
       "311713   1021560    53767             3          3                  2   \n",
       "321100    408114    68324             4          3                  2   \n",
       "323900   1919531   191501            32          3                  2   \n",
       "345917   2232988    82565             1          3                  2   \n",
       "371905    391768    57671            19          3                  2   \n",
       "394347    467134    63189            21          3                  2   \n",
       "411408   1286742   183220            48          3                  2   \n",
       "415163   2282673    86751            49          3                  2   \n",
       "441599   2125197    14050            48          3                  2   \n",
       "\n",
       "        days_since_prior_order  \n",
       "145574                     2.0  \n",
       "223105                    30.0  \n",
       "230807                    16.0  \n",
       "266232                     NaN  \n",
       "273805                     6.0  \n",
       "284038                     7.0  \n",
       "311713                     9.0  \n",
       "321100                    18.0  \n",
       "323900                     7.0  \n",
       "345917                     NaN  \n",
       "371905                    10.0  \n",
       "394347                     2.0  \n",
       "411408                     4.0  \n",
       "415163                     2.0  \n",
       "441599                     3.0  "
      ]
     },
     "execution_count": 11,
     "metadata": {},
     "output_type": "execute_result"
    }
   ],
   "source": [
    "df_instacar_orders[df_instacar_orders.duplicated()]"
   ]
  },
  {
   "cell_type": "markdown",
   "id": "PEkwUX_gvt5A",
   "metadata": {
    "id": "PEkwUX_gvt5A"
   },
   "source": [
    "¿Tienes líneas duplicadas? Si sí, ¿qué tienen en común?\n",
    "- `Resultado`: Los 15 registros tienen en común que todos fueron realizados a las 2:00 a.m., y que las órdenes fueron realizadas en el día 3 de la semana en todos los casos, o sea, el miércoles."
   ]
  },
  {
   "cell_type": "code",
   "execution_count": 12,
   "id": "0d44de5d",
   "metadata": {
    "id": "0d44de5d"
   },
   "outputs": [
    {
     "data": {
      "text/html": [
       "<div>\n",
       "<style scoped>\n",
       "    .dataframe tbody tr th:only-of-type {\n",
       "        vertical-align: middle;\n",
       "    }\n",
       "\n",
       "    .dataframe tbody tr th {\n",
       "        vertical-align: top;\n",
       "    }\n",
       "\n",
       "    .dataframe thead th {\n",
       "        text-align: right;\n",
       "    }\n",
       "</style>\n",
       "<table border=\"1\" class=\"dataframe\">\n",
       "  <thead>\n",
       "    <tr style=\"text-align: right;\">\n",
       "      <th></th>\n",
       "      <th>order_id</th>\n",
       "      <th>user_id</th>\n",
       "      <th>order_number</th>\n",
       "      <th>order_dow</th>\n",
       "      <th>order_hour_of_day</th>\n",
       "      <th>days_since_prior_order</th>\n",
       "    </tr>\n",
       "  </thead>\n",
       "  <tbody>\n",
       "    <tr>\n",
       "      <th>145574</th>\n",
       "      <td>794638</td>\n",
       "      <td>50898</td>\n",
       "      <td>24</td>\n",
       "      <td>3</td>\n",
       "      <td>2</td>\n",
       "      <td>2.0</td>\n",
       "    </tr>\n",
       "    <tr>\n",
       "      <th>223105</th>\n",
       "      <td>2160484</td>\n",
       "      <td>107525</td>\n",
       "      <td>16</td>\n",
       "      <td>3</td>\n",
       "      <td>2</td>\n",
       "      <td>30.0</td>\n",
       "    </tr>\n",
       "    <tr>\n",
       "      <th>230807</th>\n",
       "      <td>1918001</td>\n",
       "      <td>188546</td>\n",
       "      <td>14</td>\n",
       "      <td>3</td>\n",
       "      <td>2</td>\n",
       "      <td>16.0</td>\n",
       "    </tr>\n",
       "    <tr>\n",
       "      <th>266232</th>\n",
       "      <td>1782114</td>\n",
       "      <td>106752</td>\n",
       "      <td>1</td>\n",
       "      <td>3</td>\n",
       "      <td>2</td>\n",
       "      <td>NaN</td>\n",
       "    </tr>\n",
       "    <tr>\n",
       "      <th>273805</th>\n",
       "      <td>1112182</td>\n",
       "      <td>202304</td>\n",
       "      <td>84</td>\n",
       "      <td>3</td>\n",
       "      <td>2</td>\n",
       "      <td>6.0</td>\n",
       "    </tr>\n",
       "    <tr>\n",
       "      <th>284038</th>\n",
       "      <td>2845099</td>\n",
       "      <td>31189</td>\n",
       "      <td>11</td>\n",
       "      <td>3</td>\n",
       "      <td>2</td>\n",
       "      <td>7.0</td>\n",
       "    </tr>\n",
       "    <tr>\n",
       "      <th>311713</th>\n",
       "      <td>1021560</td>\n",
       "      <td>53767</td>\n",
       "      <td>3</td>\n",
       "      <td>3</td>\n",
       "      <td>2</td>\n",
       "      <td>9.0</td>\n",
       "    </tr>\n",
       "    <tr>\n",
       "      <th>321100</th>\n",
       "      <td>408114</td>\n",
       "      <td>68324</td>\n",
       "      <td>4</td>\n",
       "      <td>3</td>\n",
       "      <td>2</td>\n",
       "      <td>18.0</td>\n",
       "    </tr>\n",
       "    <tr>\n",
       "      <th>323900</th>\n",
       "      <td>1919531</td>\n",
       "      <td>191501</td>\n",
       "      <td>32</td>\n",
       "      <td>3</td>\n",
       "      <td>2</td>\n",
       "      <td>7.0</td>\n",
       "    </tr>\n",
       "    <tr>\n",
       "      <th>345917</th>\n",
       "      <td>2232988</td>\n",
       "      <td>82565</td>\n",
       "      <td>1</td>\n",
       "      <td>3</td>\n",
       "      <td>2</td>\n",
       "      <td>NaN</td>\n",
       "    </tr>\n",
       "    <tr>\n",
       "      <th>371905</th>\n",
       "      <td>391768</td>\n",
       "      <td>57671</td>\n",
       "      <td>19</td>\n",
       "      <td>3</td>\n",
       "      <td>2</td>\n",
       "      <td>10.0</td>\n",
       "    </tr>\n",
       "    <tr>\n",
       "      <th>394347</th>\n",
       "      <td>467134</td>\n",
       "      <td>63189</td>\n",
       "      <td>21</td>\n",
       "      <td>3</td>\n",
       "      <td>2</td>\n",
       "      <td>2.0</td>\n",
       "    </tr>\n",
       "    <tr>\n",
       "      <th>411408</th>\n",
       "      <td>1286742</td>\n",
       "      <td>183220</td>\n",
       "      <td>48</td>\n",
       "      <td>3</td>\n",
       "      <td>2</td>\n",
       "      <td>4.0</td>\n",
       "    </tr>\n",
       "    <tr>\n",
       "      <th>415163</th>\n",
       "      <td>2282673</td>\n",
       "      <td>86751</td>\n",
       "      <td>49</td>\n",
       "      <td>3</td>\n",
       "      <td>2</td>\n",
       "      <td>2.0</td>\n",
       "    </tr>\n",
       "    <tr>\n",
       "      <th>441599</th>\n",
       "      <td>2125197</td>\n",
       "      <td>14050</td>\n",
       "      <td>48</td>\n",
       "      <td>3</td>\n",
       "      <td>2</td>\n",
       "      <td>3.0</td>\n",
       "    </tr>\n",
       "  </tbody>\n",
       "</table>\n",
       "</div>"
      ],
      "text/plain": [
       "        order_id  user_id  order_number  order_dow  order_hour_of_day  \\\n",
       "145574    794638    50898            24          3                  2   \n",
       "223105   2160484   107525            16          3                  2   \n",
       "230807   1918001   188546            14          3                  2   \n",
       "266232   1782114   106752             1          3                  2   \n",
       "273805   1112182   202304            84          3                  2   \n",
       "284038   2845099    31189            11          3                  2   \n",
       "311713   1021560    53767             3          3                  2   \n",
       "321100    408114    68324             4          3                  2   \n",
       "323900   1919531   191501            32          3                  2   \n",
       "345917   2232988    82565             1          3                  2   \n",
       "371905    391768    57671            19          3                  2   \n",
       "394347    467134    63189            21          3                  2   \n",
       "411408   1286742   183220            48          3                  2   \n",
       "415163   2282673    86751            49          3                  2   \n",
       "441599   2125197    14050            48          3                  2   \n",
       "\n",
       "        days_since_prior_order  \n",
       "145574                     2.0  \n",
       "223105                    30.0  \n",
       "230807                    16.0  \n",
       "266232                     NaN  \n",
       "273805                     6.0  \n",
       "284038                     7.0  \n",
       "311713                     9.0  \n",
       "321100                    18.0  \n",
       "323900                     7.0  \n",
       "345917                     NaN  \n",
       "371905                    10.0  \n",
       "394347                     2.0  \n",
       "411408                     4.0  \n",
       "415163                     2.0  \n",
       "441599                     3.0  "
      ]
     },
     "execution_count": 12,
     "metadata": {},
     "output_type": "execute_result"
    }
   ],
   "source": [
    "# Basándote en tus hallazgos,\n",
    "# Verifica todos los pedidos que se hicieron el miércoles a las 2:00 a.m.\n",
    "df_instacar_orders[df_instacar_orders.duplicated()]"
   ]
  },
  {
   "cell_type": "markdown",
   "id": "vu2OWyoqwOx5",
   "metadata": {
    "id": "vu2OWyoqwOx5"
   },
   "source": [
    "¿Qué sugiere este resultado?\n",
    "\n",
    "Tomando en cuenta que existen 15 filas duplicadas, que todos las órdenes fueron realizadas a la misma hora y el mismo día de la semana en el dataset instacart, el resultado sugiere que a esa hora de ese día ocurrió un comportamiento atípico en las operaciones."
   ]
  },
  {
   "cell_type": "code",
   "execution_count": 13,
   "id": "480563c7",
   "metadata": {
    "id": "480563c7"
   },
   "outputs": [],
   "source": [
    "# Elimina los pedidos duplicados\n",
    "df_instacar_orders = df_instacar_orders.drop_duplicates().reset_index(drop=True)"
   ]
  },
  {
   "cell_type": "code",
   "execution_count": 14,
   "id": "0b2396a2",
   "metadata": {
    "id": "0b2396a2"
   },
   "outputs": [
    {
     "data": {
      "text/html": [
       "<div>\n",
       "<style scoped>\n",
       "    .dataframe tbody tr th:only-of-type {\n",
       "        vertical-align: middle;\n",
       "    }\n",
       "\n",
       "    .dataframe tbody tr th {\n",
       "        vertical-align: top;\n",
       "    }\n",
       "\n",
       "    .dataframe thead th {\n",
       "        text-align: right;\n",
       "    }\n",
       "</style>\n",
       "<table border=\"1\" class=\"dataframe\">\n",
       "  <thead>\n",
       "    <tr style=\"text-align: right;\">\n",
       "      <th></th>\n",
       "      <th>order_id</th>\n",
       "      <th>user_id</th>\n",
       "      <th>order_number</th>\n",
       "      <th>order_dow</th>\n",
       "      <th>order_hour_of_day</th>\n",
       "      <th>days_since_prior_order</th>\n",
       "    </tr>\n",
       "  </thead>\n",
       "  <tbody>\n",
       "  </tbody>\n",
       "</table>\n",
       "</div>"
      ],
      "text/plain": [
       "Empty DataFrame\n",
       "Columns: [order_id, user_id, order_number, order_dow, order_hour_of_day, days_since_prior_order]\n",
       "Index: []"
      ]
     },
     "execution_count": 14,
     "metadata": {},
     "output_type": "execute_result"
    }
   ],
   "source": [
    "# Vuelve a verificar si hay filas duplicadas\n",
    "df_instacar_orders[df_instacar_orders.duplicated()] # Ya NO HAY DUPLICADOS"
   ]
  },
  {
   "cell_type": "code",
   "execution_count": 15,
   "id": "eec9e755",
   "metadata": {},
   "outputs": [
    {
     "name": "stdout",
     "output_type": "stream",
     "text": [
      "Index(['order_id', 'user_id', 'order_number', 'order_dow', 'order_hour_of_day',\n",
      "       'days_since_prior_order'],\n",
      "      dtype='object')\n"
     ]
    }
   ],
   "source": [
    "print(df_instacar_orders.columns ) "
   ]
  },
  {
   "cell_type": "code",
   "execution_count": 16,
   "id": "f6113ef1",
   "metadata": {
    "id": "f6113ef1"
   },
   "outputs": [
    {
     "data": {
      "text/plain": [
       "0"
      ]
     },
     "execution_count": 16,
     "metadata": {},
     "output_type": "execute_result"
    }
   ],
   "source": [
    "# Vuelve a verificar únicamente si hay IDs duplicados de pedidos\n",
    "#df_instacar_orders = df_instacar_orders.drop_duplicates(subset='order_id').reset_index(drop=True)\n",
    "df_instacar_orders.duplicated(subset='order_id').sum()"
   ]
  },
  {
   "cell_type": "markdown",
   "id": "5e8905ae",
   "metadata": {
    "id": "5e8905ae"
   },
   "source": [
    "Describe brevemente tus hallazgos y lo que hiciste con ellos\n",
    "\n",
    "En primera instancia, se pudo constatar en los datos que se tienen: \n",
    "-existencia de caracteres especiales en los strings del nombre del producto, \n",
    "-existencia de 15 registros duplicados en el dataset de instacar_order,\n",
    "-presencia de celdas con datos faltantes, tal y como ocurre en la tabla products, en la fila, en el producto 5833, \n",
    "por otra parte, los registros están separados por el signo de ;, lo cual conlleva leer los datasets indicando el separador ;."
   ]
  },
  {
   "cell_type": "markdown",
   "id": "45e6bc46",
   "metadata": {
    "id": "45e6bc46"
   },
   "source": [
    "### `products` data frame"
   ]
  },
  {
   "cell_type": "code",
   "execution_count": 17,
   "id": "5f526b5b-8175-46fa-a0fd-441767d50e64",
   "metadata": {
    "id": "5f526b5b-8175-46fa-a0fd-441767d50e64"
   },
   "outputs": [
    {
     "name": "stdout",
     "output_type": "stream",
     "text": [
      "0\n"
     ]
    }
   ],
   "source": [
    "# Verifica si hay filas totalmente duplicadas\n",
    "print(df_products.duplicated().sum())"
   ]
  },
  {
   "cell_type": "code",
   "execution_count": 18,
   "id": "88daa4f4",
   "metadata": {
    "id": "88daa4f4"
   },
   "outputs": [
    {
     "data": {
      "text/plain": [
       "0"
      ]
     },
     "execution_count": 18,
     "metadata": {},
     "output_type": "execute_result"
    }
   ],
   "source": [
    "# Verifica únicamente si hay IDs duplicadas de productos\n",
    "df_products.duplicated(subset='product_id').sum()"
   ]
  },
  {
   "cell_type": "code",
   "execution_count": 19,
   "id": "c773f0bf",
   "metadata": {
    "id": "c773f0bf"
   },
   "outputs": [
    {
     "data": {
      "text/plain": [
       "1361"
      ]
     },
     "execution_count": 19,
     "metadata": {},
     "output_type": "execute_result"
    }
   ],
   "source": [
    "# Revisa únicamente si hay nombres duplicados de productos (convierte los nombres a letras mayúsculas para compararlos mejor)\n",
    "df_products['product_name'] = df_products['product_name'].str.lower()  \n",
    "df_products.duplicated(subset='product_name').sum() "
   ]
  },
  {
   "cell_type": "code",
   "execution_count": 20,
   "id": "6ccd33a6",
   "metadata": {},
   "outputs": [
    {
     "data": {
      "text/html": [
       "<div>\n",
       "<style scoped>\n",
       "    .dataframe tbody tr th:only-of-type {\n",
       "        vertical-align: middle;\n",
       "    }\n",
       "\n",
       "    .dataframe tbody tr th {\n",
       "        vertical-align: top;\n",
       "    }\n",
       "\n",
       "    .dataframe thead th {\n",
       "        text-align: right;\n",
       "    }\n",
       "</style>\n",
       "<table border=\"1\" class=\"dataframe\">\n",
       "  <thead>\n",
       "    <tr style=\"text-align: right;\">\n",
       "      <th></th>\n",
       "      <th>product_id</th>\n",
       "      <th>product_name</th>\n",
       "      <th>aisle_id</th>\n",
       "      <th>department_id</th>\n",
       "    </tr>\n",
       "  </thead>\n",
       "  <tbody>\n",
       "    <tr>\n",
       "      <th>0</th>\n",
       "      <td>1</td>\n",
       "      <td>chocolate sandwich cookies</td>\n",
       "      <td>61</td>\n",
       "      <td>19</td>\n",
       "    </tr>\n",
       "    <tr>\n",
       "      <th>1</th>\n",
       "      <td>2</td>\n",
       "      <td>all-seasons salt</td>\n",
       "      <td>104</td>\n",
       "      <td>13</td>\n",
       "    </tr>\n",
       "    <tr>\n",
       "      <th>2</th>\n",
       "      <td>3</td>\n",
       "      <td>robust golden unsweetened oolong tea</td>\n",
       "      <td>94</td>\n",
       "      <td>7</td>\n",
       "    </tr>\n",
       "    <tr>\n",
       "      <th>3</th>\n",
       "      <td>4</td>\n",
       "      <td>smart ones classic favorites mini rigatoni wit...</td>\n",
       "      <td>38</td>\n",
       "      <td>1</td>\n",
       "    </tr>\n",
       "    <tr>\n",
       "      <th>4</th>\n",
       "      <td>5</td>\n",
       "      <td>green chile anytime sauce</td>\n",
       "      <td>5</td>\n",
       "      <td>13</td>\n",
       "    </tr>\n",
       "    <tr>\n",
       "      <th>...</th>\n",
       "      <td>...</td>\n",
       "      <td>...</td>\n",
       "      <td>...</td>\n",
       "      <td>...</td>\n",
       "    </tr>\n",
       "    <tr>\n",
       "      <th>48328</th>\n",
       "      <td>49684</td>\n",
       "      <td>vodka- triple distilled- twist of vanilla</td>\n",
       "      <td>124</td>\n",
       "      <td>5</td>\n",
       "    </tr>\n",
       "    <tr>\n",
       "      <th>48329</th>\n",
       "      <td>49685</td>\n",
       "      <td>en croute roast hazelnut cranberry</td>\n",
       "      <td>42</td>\n",
       "      <td>1</td>\n",
       "    </tr>\n",
       "    <tr>\n",
       "      <th>48330</th>\n",
       "      <td>49686</td>\n",
       "      <td>artisan baguette</td>\n",
       "      <td>112</td>\n",
       "      <td>3</td>\n",
       "    </tr>\n",
       "    <tr>\n",
       "      <th>48331</th>\n",
       "      <td>49687</td>\n",
       "      <td>smartblend healthy metabolism dry cat food</td>\n",
       "      <td>41</td>\n",
       "      <td>8</td>\n",
       "    </tr>\n",
       "    <tr>\n",
       "      <th>48332</th>\n",
       "      <td>49688</td>\n",
       "      <td>fresh foaming cleanser</td>\n",
       "      <td>73</td>\n",
       "      <td>11</td>\n",
       "    </tr>\n",
       "  </tbody>\n",
       "</table>\n",
       "<p>48333 rows × 4 columns</p>\n",
       "</div>"
      ],
      "text/plain": [
       "       product_id                                       product_name  \\\n",
       "0               1                         chocolate sandwich cookies   \n",
       "1               2                                   all-seasons salt   \n",
       "2               3               robust golden unsweetened oolong tea   \n",
       "3               4  smart ones classic favorites mini rigatoni wit...   \n",
       "4               5                          green chile anytime sauce   \n",
       "...           ...                                                ...   \n",
       "48328       49684          vodka- triple distilled- twist of vanilla   \n",
       "48329       49685                 en croute roast hazelnut cranberry   \n",
       "48330       49686                                   artisan baguette   \n",
       "48331       49687         smartblend healthy metabolism dry cat food   \n",
       "48332       49688                             fresh foaming cleanser   \n",
       "\n",
       "       aisle_id  department_id  \n",
       "0            61             19  \n",
       "1           104             13  \n",
       "2            94              7  \n",
       "3            38              1  \n",
       "4             5             13  \n",
       "...         ...            ...  \n",
       "48328       124              5  \n",
       "48329        42              1  \n",
       "48330       112              3  \n",
       "48331        41              8  \n",
       "48332        73             11  \n",
       "\n",
       "[48333 rows x 4 columns]"
      ]
     },
     "execution_count": 20,
     "metadata": {},
     "output_type": "execute_result"
    }
   ],
   "source": [
    "df_products.drop_duplicates(subset='product_name').reset_index(drop=True)"
   ]
  },
  {
   "cell_type": "code",
   "execution_count": 21,
   "id": "01efd02e",
   "metadata": {
    "id": "01efd02e"
   },
   "outputs": [
    {
     "data": {
      "text/html": [
       "<div>\n",
       "<style scoped>\n",
       "    .dataframe tbody tr th:only-of-type {\n",
       "        vertical-align: middle;\n",
       "    }\n",
       "\n",
       "    .dataframe tbody tr th {\n",
       "        vertical-align: top;\n",
       "    }\n",
       "\n",
       "    .dataframe thead th {\n",
       "        text-align: right;\n",
       "    }\n",
       "</style>\n",
       "<table border=\"1\" class=\"dataframe\">\n",
       "  <thead>\n",
       "    <tr style=\"text-align: right;\">\n",
       "      <th></th>\n",
       "      <th>product_id</th>\n",
       "      <th>product_name</th>\n",
       "      <th>aisle_id</th>\n",
       "      <th>department_id</th>\n",
       "    </tr>\n",
       "  </thead>\n",
       "  <tbody>\n",
       "    <tr>\n",
       "      <th>71</th>\n",
       "      <td>72</td>\n",
       "      <td>NaN</td>\n",
       "      <td>100</td>\n",
       "      <td>21</td>\n",
       "    </tr>\n",
       "    <tr>\n",
       "      <th>109</th>\n",
       "      <td>110</td>\n",
       "      <td>NaN</td>\n",
       "      <td>100</td>\n",
       "      <td>21</td>\n",
       "    </tr>\n",
       "    <tr>\n",
       "      <th>296</th>\n",
       "      <td>297</td>\n",
       "      <td>NaN</td>\n",
       "      <td>100</td>\n",
       "      <td>21</td>\n",
       "    </tr>\n",
       "    <tr>\n",
       "      <th>416</th>\n",
       "      <td>417</td>\n",
       "      <td>NaN</td>\n",
       "      <td>100</td>\n",
       "      <td>21</td>\n",
       "    </tr>\n",
       "    <tr>\n",
       "      <th>436</th>\n",
       "      <td>437</td>\n",
       "      <td>NaN</td>\n",
       "      <td>100</td>\n",
       "      <td>21</td>\n",
       "    </tr>\n",
       "    <tr>\n",
       "      <th>...</th>\n",
       "      <td>...</td>\n",
       "      <td>...</td>\n",
       "      <td>...</td>\n",
       "      <td>...</td>\n",
       "    </tr>\n",
       "    <tr>\n",
       "      <th>49552</th>\n",
       "      <td>49553</td>\n",
       "      <td>NaN</td>\n",
       "      <td>100</td>\n",
       "      <td>21</td>\n",
       "    </tr>\n",
       "    <tr>\n",
       "      <th>49574</th>\n",
       "      <td>49575</td>\n",
       "      <td>NaN</td>\n",
       "      <td>100</td>\n",
       "      <td>21</td>\n",
       "    </tr>\n",
       "    <tr>\n",
       "      <th>49640</th>\n",
       "      <td>49641</td>\n",
       "      <td>NaN</td>\n",
       "      <td>100</td>\n",
       "      <td>21</td>\n",
       "    </tr>\n",
       "    <tr>\n",
       "      <th>49663</th>\n",
       "      <td>49664</td>\n",
       "      <td>NaN</td>\n",
       "      <td>100</td>\n",
       "      <td>21</td>\n",
       "    </tr>\n",
       "    <tr>\n",
       "      <th>49668</th>\n",
       "      <td>49669</td>\n",
       "      <td>NaN</td>\n",
       "      <td>100</td>\n",
       "      <td>21</td>\n",
       "    </tr>\n",
       "  </tbody>\n",
       "</table>\n",
       "<p>1257 rows × 4 columns</p>\n",
       "</div>"
      ],
      "text/plain": [
       "       product_id product_name  aisle_id  department_id\n",
       "71             72          NaN       100             21\n",
       "109           110          NaN       100             21\n",
       "296           297          NaN       100             21\n",
       "416           417          NaN       100             21\n",
       "436           437          NaN       100             21\n",
       "...           ...          ...       ...            ...\n",
       "49552       49553          NaN       100             21\n",
       "49574       49575          NaN       100             21\n",
       "49640       49641          NaN       100             21\n",
       "49663       49664          NaN       100             21\n",
       "49668       49669          NaN       100             21\n",
       "\n",
       "[1257 rows x 4 columns]"
      ]
     },
     "execution_count": 21,
     "metadata": {},
     "output_type": "execute_result"
    }
   ],
   "source": [
    "# Revisa si hay nombres duplicados de productos no faltantes\n",
    "\n",
    "#Se entiende por producto faltante aquel que exite, pero que sus existencias en almacen son 0.\n",
    "df_products.duplicated(subset='product_name').sum() \n",
    "\n",
    "cond1 = ~df_products['product_name'].notna()\n",
    "cond2 = df_products['product_name'].duplicated()\n",
    "\n",
    "# df_products1 = df_products[cond1 & cond2] #Asi no\n",
    "df_products1 = df_products[cond1 & cond2] #Aplicando las dos condiciones tal y como fue indicado\n",
    "df_products1"
   ]
  },
  {
   "cell_type": "markdown",
   "id": "9da8d293",
   "metadata": {
    "id": "9da8d293"
   },
   "source": [
    "Describe brevemente tus hallazgos y lo que hiciste con ellos.\n",
    "\n",
    "Se encontraron 1361 filas duplicadas en esta tabla, y se aplicó la función drop_duplicates."
   ]
  },
  {
   "cell_type": "markdown",
   "id": "60f30db1",
   "metadata": {
    "id": "60f30db1"
   },
   "source": [
    "### `departments` data frame"
   ]
  },
  {
   "cell_type": "code",
   "execution_count": 22,
   "id": "fb410ad4-0fbf-4b80-bb09-23fdea79afe3",
   "metadata": {
    "id": "fb410ad4-0fbf-4b80-bb09-23fdea79afe3"
   },
   "outputs": [
    {
     "data": {
      "text/plain": [
       "0"
      ]
     },
     "execution_count": 22,
     "metadata": {},
     "output_type": "execute_result"
    }
   ],
   "source": [
    "# Revisa si hay filas totalmente duplicadas\n",
    "df_departments.duplicated().sum()"
   ]
  },
  {
   "cell_type": "code",
   "execution_count": 23,
   "id": "332b12bb",
   "metadata": {
    "id": "332b12bb"
   },
   "outputs": [
    {
     "data": {
      "text/plain": [
       "0"
      ]
     },
     "execution_count": 23,
     "metadata": {},
     "output_type": "execute_result"
    }
   ],
   "source": [
    "# Revisa únicamente si hay IDs duplicadas de productos\n",
    "df_departments.duplicated(subset='department_id').sum()"
   ]
  },
  {
   "cell_type": "markdown",
   "id": "bd30d78e",
   "metadata": {
    "id": "bd30d78e"
   },
   "source": [
    "Describe brevemente tus hallazgos y lo que hiciste con ellos.\n",
    "\n",
    "No se encontraron filas totalmente duplicadas ni IDs duplicados de productos."
   ]
  },
  {
   "cell_type": "markdown",
   "id": "889349c1",
   "metadata": {
    "id": "889349c1"
   },
   "source": [
    "### `aisles` data frame"
   ]
  },
  {
   "cell_type": "code",
   "execution_count": 24,
   "id": "9da89fb9-4679-40f5-ad0d-c34df753a3f8",
   "metadata": {
    "id": "9da89fb9-4679-40f5-ad0d-c34df753a3f8"
   },
   "outputs": [
    {
     "data": {
      "text/plain": [
       "0"
      ]
     },
     "execution_count": 24,
     "metadata": {},
     "output_type": "execute_result"
    }
   ],
   "source": [
    "# Revisa si hay filas totalmente duplicadas\n",
    "\n",
    "df_aisles.duplicated().sum()"
   ]
  },
  {
   "cell_type": "code",
   "execution_count": 25,
   "id": "da7c2822",
   "metadata": {
    "id": "da7c2822"
   },
   "outputs": [
    {
     "data": {
      "text/plain": [
       "0"
      ]
     },
     "execution_count": 25,
     "metadata": {},
     "output_type": "execute_result"
    }
   ],
   "source": [
    "# Revisa únicamente si hay IDs duplicadas de productos\n",
    "df_aisles.duplicated(subset='aisle_id').sum()"
   ]
  },
  {
   "cell_type": "markdown",
   "id": "ac63826f",
   "metadata": {
    "id": "ac63826f"
   },
   "source": [
    "Describe brevemente tus hallazgos y lo que hiciste con ellos.\n",
    "\n",
    "No se encontraron filas totalmente duplicadas ni IDs duplicados de productos en el dataset aisles. "
   ]
  },
  {
   "cell_type": "markdown",
   "id": "274cd06a",
   "metadata": {
    "id": "274cd06a"
   },
   "source": [
    "### `order_products` data frame"
   ]
  },
  {
   "cell_type": "code",
   "execution_count": 26,
   "id": "52326689-84a8-4b8f-a881-7c68780f62c9",
   "metadata": {
    "id": "52326689-84a8-4b8f-a881-7c68780f62c9"
   },
   "outputs": [
    {
     "data": {
      "text/plain": [
       "0"
      ]
     },
     "execution_count": 26,
     "metadata": {},
     "output_type": "execute_result"
    }
   ],
   "source": [
    "# Revisa si hay filas totalmente duplicadas\n",
    "df_order_products.duplicated().sum()"
   ]
  },
  {
   "cell_type": "code",
   "execution_count": 27,
   "id": "7b861391",
   "metadata": {
    "id": "7b861391"
   },
   "outputs": [
    {
     "data": {
      "text/plain": [
       "4094961"
      ]
     },
     "execution_count": 27,
     "metadata": {},
     "output_type": "execute_result"
    }
   ],
   "source": [
    "# Vuelve a verificar si hay cualquier otro duplicado engañoso\n",
    "df_order_products.duplicated(subset='order_id').sum()"
   ]
  },
  {
   "cell_type": "markdown",
   "id": "0b890492",
   "metadata": {
    "id": "0b890492"
   },
   "source": [
    "Describe brevemente tus hallazgos y lo que hiciste con ellos."
   ]
  },
  {
   "cell_type": "markdown",
   "id": "1e46de76",
   "metadata": {
    "id": "1e46de76"
   },
   "source": [
    "## Encuentra y elimina los valores ausentes\n",
    "\n",
    "Al trabajar con valores duplicados, pudimos observar que también nos falta investigar valores ausentes:\n",
    "\n",
    "* La columna `'product_name'` de la tabla products.\n",
    "* La columna `'days_since_prior_order'` de la tabla orders.\n",
    "* La columna `'add_to_cart_order'` de la tabla order_productos."
   ]
  },
  {
   "cell_type": "markdown",
   "id": "c0aebd78",
   "metadata": {
    "id": "c0aebd78"
   },
   "source": [
    "### `products` data frame"
   ]
  },
  {
   "cell_type": "code",
   "execution_count": 28,
   "id": "fe4a8b0f",
   "metadata": {
    "id": "fe4a8b0f"
   },
   "outputs": [
    {
     "data": {
      "text/html": [
       "<div>\n",
       "<style scoped>\n",
       "    .dataframe tbody tr th:only-of-type {\n",
       "        vertical-align: middle;\n",
       "    }\n",
       "\n",
       "    .dataframe tbody tr th {\n",
       "        vertical-align: top;\n",
       "    }\n",
       "\n",
       "    .dataframe thead th {\n",
       "        text-align: right;\n",
       "    }\n",
       "</style>\n",
       "<table border=\"1\" class=\"dataframe\">\n",
       "  <thead>\n",
       "    <tr style=\"text-align: right;\">\n",
       "      <th></th>\n",
       "      <th>product_id</th>\n",
       "      <th>product_name</th>\n",
       "      <th>aisle_id</th>\n",
       "      <th>department_id</th>\n",
       "    </tr>\n",
       "  </thead>\n",
       "  <tbody>\n",
       "    <tr>\n",
       "      <th>37</th>\n",
       "      <td>38</td>\n",
       "      <td>NaN</td>\n",
       "      <td>100</td>\n",
       "      <td>21</td>\n",
       "    </tr>\n",
       "    <tr>\n",
       "      <th>71</th>\n",
       "      <td>72</td>\n",
       "      <td>NaN</td>\n",
       "      <td>100</td>\n",
       "      <td>21</td>\n",
       "    </tr>\n",
       "    <tr>\n",
       "      <th>109</th>\n",
       "      <td>110</td>\n",
       "      <td>NaN</td>\n",
       "      <td>100</td>\n",
       "      <td>21</td>\n",
       "    </tr>\n",
       "    <tr>\n",
       "      <th>296</th>\n",
       "      <td>297</td>\n",
       "      <td>NaN</td>\n",
       "      <td>100</td>\n",
       "      <td>21</td>\n",
       "    </tr>\n",
       "    <tr>\n",
       "      <th>416</th>\n",
       "      <td>417</td>\n",
       "      <td>NaN</td>\n",
       "      <td>100</td>\n",
       "      <td>21</td>\n",
       "    </tr>\n",
       "    <tr>\n",
       "      <th>...</th>\n",
       "      <td>...</td>\n",
       "      <td>...</td>\n",
       "      <td>...</td>\n",
       "      <td>...</td>\n",
       "    </tr>\n",
       "    <tr>\n",
       "      <th>49552</th>\n",
       "      <td>49553</td>\n",
       "      <td>NaN</td>\n",
       "      <td>100</td>\n",
       "      <td>21</td>\n",
       "    </tr>\n",
       "    <tr>\n",
       "      <th>49574</th>\n",
       "      <td>49575</td>\n",
       "      <td>NaN</td>\n",
       "      <td>100</td>\n",
       "      <td>21</td>\n",
       "    </tr>\n",
       "    <tr>\n",
       "      <th>49640</th>\n",
       "      <td>49641</td>\n",
       "      <td>NaN</td>\n",
       "      <td>100</td>\n",
       "      <td>21</td>\n",
       "    </tr>\n",
       "    <tr>\n",
       "      <th>49663</th>\n",
       "      <td>49664</td>\n",
       "      <td>NaN</td>\n",
       "      <td>100</td>\n",
       "      <td>21</td>\n",
       "    </tr>\n",
       "    <tr>\n",
       "      <th>49668</th>\n",
       "      <td>49669</td>\n",
       "      <td>NaN</td>\n",
       "      <td>100</td>\n",
       "      <td>21</td>\n",
       "    </tr>\n",
       "  </tbody>\n",
       "</table>\n",
       "<p>1258 rows × 4 columns</p>\n",
       "</div>"
      ],
      "text/plain": [
       "       product_id product_name  aisle_id  department_id\n",
       "37             38          NaN       100             21\n",
       "71             72          NaN       100             21\n",
       "109           110          NaN       100             21\n",
       "296           297          NaN       100             21\n",
       "416           417          NaN       100             21\n",
       "...           ...          ...       ...            ...\n",
       "49552       49553          NaN       100             21\n",
       "49574       49575          NaN       100             21\n",
       "49640       49641          NaN       100             21\n",
       "49663       49664          NaN       100             21\n",
       "49668       49669          NaN       100             21\n",
       "\n",
       "[1258 rows x 4 columns]"
      ]
     },
     "execution_count": 28,
     "metadata": {},
     "output_type": "execute_result"
    }
   ],
   "source": [
    "# Encuentra los valores ausentes en la columna 'product_name'\n",
    "df_products[df_products['product_name'].isna()]"
   ]
  },
  {
   "cell_type": "markdown",
   "id": "-A6x1AbJhjkp",
   "metadata": {
    "id": "-A6x1AbJhjkp"
   },
   "source": [
    "Describe brevemente cuáles son tus hallazgos."
   ]
  },
  {
   "cell_type": "code",
   "execution_count": 29,
   "id": "e96167bc",
   "metadata": {
    "id": "e96167bc"
   },
   "outputs": [
    {
     "data": {
      "text/plain": [
       "product_id       1258\n",
       "product_name        0\n",
       "aisle_id         1258\n",
       "department_id    1258\n",
       "dtype: int64"
      ]
     },
     "execution_count": 29,
     "metadata": {},
     "output_type": "execute_result"
    }
   ],
   "source": [
    "#  ¿Todos los nombres de productos ausentes están relacionados con el pasillo con ID 100?\n",
    "df_products[(df_products['product_name'].isna() == True) & (df_products['aisle_id'] == 100)].count() "
   ]
  },
  {
   "cell_type": "markdown",
   "id": "WRpIfXRphpSL",
   "metadata": {
    "id": "WRpIfXRphpSL"
   },
   "source": [
    "Describe brevemente cuáles son tus hallazgos.\n",
    "\n",
    "Sí, todos los nombres de productos están relacionados con el pasillo  con ID 100, siendo el total 1258. "
   ]
  },
  {
   "cell_type": "code",
   "execution_count": 30,
   "id": "8fd0a541",
   "metadata": {
    "id": "8fd0a541"
   },
   "outputs": [
    {
     "data": {
      "text/plain": [
       "product_id       1258\n",
       "product_name        0\n",
       "aisle_id         1258\n",
       "department_id    1258\n",
       "dtype: int64"
      ]
     },
     "execution_count": 30,
     "metadata": {},
     "output_type": "execute_result"
    }
   ],
   "source": [
    "# ¿Todos los nombres de productos ausentes están relacionados con el departamento con ID 21?\n",
    "\n",
    "df_products[(df_products['product_name'].isna() == True) & (df_products['aisle_id'] == 100) & (df_products['department_id'] == 21)].count() "
   ]
  },
  {
   "cell_type": "markdown",
   "id": "qDpdYn1Fht_I",
   "metadata": {
    "id": "qDpdYn1Fht_I"
   },
   "source": [
    "Describe brevemente cuáles son tus hallazgos.\n",
    "\n",
    "Sí, todos los nombres de productos están relacionados con el departamento con ID 21, siendo el total 1258."
   ]
  },
  {
   "cell_type": "code",
   "execution_count": 31,
   "id": "325c3464",
   "metadata": {
    "id": "325c3464"
   },
   "outputs": [
    {
     "name": "stdout",
     "output_type": "stream",
     "text": [
      "aisle_id    1\n",
      "aisle       1\n",
      "dtype: int64\n"
     ]
    },
    {
     "data": {
      "text/plain": [
       "department_id    1\n",
       "department       1\n",
       "dtype: int64"
      ]
     },
     "execution_count": 31,
     "metadata": {},
     "output_type": "execute_result"
    }
   ],
   "source": [
    "# Usa las tablas department y aisle para revisar los datos del pasillo con ID 100 y el departamento con ID 21.\n",
    "print( df_aisles[df_aisles['aisle_id'] == 100].count())\n",
    "df_departments[df_departments['department_id'] == 21].count() "
   ]
  },
  {
   "cell_type": "markdown",
   "id": "nqhSTUPhhvEJ",
   "metadata": {
    "id": "nqhSTUPhhvEJ"
   },
   "source": [
    "Describe brevemente cuáles son tus hallazgos.\n",
    "\n",
    "Existe un registro en dataset aisle con ID 100 y valor missing, y un registro con ID 21 en department que también está missing. "
   ]
  },
  {
   "cell_type": "code",
   "execution_count": 32,
   "id": "6b295120",
   "metadata": {
    "id": "6b295120"
   },
   "outputs": [],
   "source": [
    "# Completa los nombres de productos ausentes con 'Unknown'\n",
    "df_products['product_name'].fillna('Unknown', inplace=True) "
   ]
  },
  {
   "cell_type": "markdown",
   "id": "fc70e5ad",
   "metadata": {
    "id": "fc70e5ad"
   },
   "source": [
    "Describe brevemente tus hallazgos y lo que hiciste con ellos.\n",
    "\n",
    "Todas las celdas de los productos ausentes fueron reemplazados con el vocablo 'Unknown'."
   ]
  },
  {
   "cell_type": "markdown",
   "id": "7eb45c86",
   "metadata": {
    "id": "7eb45c86"
   },
   "source": [
    "### `orders` data frame"
   ]
  },
  {
   "cell_type": "code",
   "execution_count": 33,
   "id": "93e41d96",
   "metadata": {
    "id": "93e41d96"
   },
   "outputs": [
    {
     "name": "stdout",
     "output_type": "stream",
     "text": [
      "order_id                      0\n",
      "user_id                       0\n",
      "order_number                  0\n",
      "order_dow                     0\n",
      "order_hour_of_day             0\n",
      "days_since_prior_order    28817\n",
      "dtype: int64\n"
     ]
    }
   ],
   "source": [
    "# Encuentra los valores ausentes\n",
    "\n",
    "print(df_instacar_orders.isna().sum())"
   ]
  },
  {
   "cell_type": "code",
   "execution_count": 34,
   "id": "166e5a86",
   "metadata": {
    "id": "166e5a86"
   },
   "outputs": [
    {
     "data": {
      "text/plain": [
       "order_id                      0\n",
       "user_id                       0\n",
       "order_number                  0\n",
       "order_dow                     0\n",
       "order_hour_of_day             0\n",
       "days_since_prior_order    28817\n",
       "dtype: int64"
      ]
     },
     "execution_count": 34,
     "metadata": {},
     "output_type": "execute_result"
    }
   ],
   "source": [
    "# ¿Hay algún valor ausente que no sea el primer pedido del cliente?\n",
    "\n",
    "df_instacar_orders.isna().sum()\n",
    "#El resto de las columnas en esta dataset no tiene datos faltantes, tal y como se puede apreciar los valores faltante sestán en 0."
   ]
  },
  {
   "cell_type": "markdown",
   "id": "4e23d089",
   "metadata": {
    "id": "4e23d089"
   },
   "source": [
    "Describe brevemente tus hallazgos y lo que hiciste con ellos.\n",
    "\n",
    "Como se puede apreciar existen 28817 registros de celdas ausentes en la columna 'days_since_prior_order', en el resto No existen datos ausentes."
   ]
  },
  {
   "cell_type": "markdown",
   "id": "69dc9ca4",
   "metadata": {
    "id": "69dc9ca4"
   },
   "source": [
    "### `order_products` data frame"
   ]
  },
  {
   "cell_type": "code",
   "execution_count": 35,
   "id": "b8240253",
   "metadata": {
    "id": "b8240253"
   },
   "outputs": [
    {
     "data": {
      "text/plain": [
       "order_id               0\n",
       "product_id             0\n",
       "add_to_cart_order    836\n",
       "reordered              0\n",
       "dtype: int64"
      ]
     },
     "execution_count": 35,
     "metadata": {},
     "output_type": "execute_result"
    }
   ],
   "source": [
    "# Encuentra los valores ausentes\n",
    "\n",
    "df_order_products.isna().sum()"
   ]
  },
  {
   "cell_type": "code",
   "execution_count": 36,
   "id": "9a78e5ee",
   "metadata": {
    "id": "9a78e5ee"
   },
   "outputs": [
    {
     "name": "stdout",
     "output_type": "stream",
     "text": [
      "1.0\n",
      "64.0\n"
     ]
    }
   ],
   "source": [
    "# ¿Cuáles son los valores mínimos y máximos en esta columna?\n",
    "print(df_order_products['add_to_cart_order'].min())\n",
    "print(df_order_products['add_to_cart_order'].max())"
   ]
  },
  {
   "cell_type": "markdown",
   "id": "-Z2Ja215jW78",
   "metadata": {
    "id": "-Z2Ja215jW78"
   },
   "source": [
    "Describe brevemente cuáles son tus hallazgos.\n",
    "\n",
    "Como se puede apreciar existen 836 registros de celdas ausentes en la columna 'add_to_cart_order', en el resto de las columnas no existen datos ausentes. Además, se encontró que el valor mínimo de la columna 'add_to_cart_order' es 1 y el valor máximo es 64."
   ]
  },
  {
   "cell_type": "code",
   "execution_count": 37,
   "id": "ab9d0c2b",
   "metadata": {
    "id": "ab9d0c2b"
   },
   "outputs": [
    {
     "data": {
      "text/plain": [
       "[2449164,\n",
       " 1968313,\n",
       " 2926893,\n",
       " 1717990,\n",
       " 1959075,\n",
       " 844733,\n",
       " 61355,\n",
       " 936852,\n",
       " 264710,\n",
       " 1717990,\n",
       " 1564093,\n",
       " 129627,\n",
       " 264710,\n",
       " 293169,\n",
       " 2849370,\n",
       " 1386261,\n",
       " 3308010,\n",
       " 903110,\n",
       " 2136777,\n",
       " 3347453,\n",
       " 1888628,\n",
       " 165801,\n",
       " 2449164,\n",
       " 2094761,\n",
       " 3347453,\n",
       " 1038146,\n",
       " 2136777,\n",
       " 2997021,\n",
       " 844733,\n",
       " 844733,\n",
       " 2136777,\n",
       " 813364,\n",
       " 165801,\n",
       " 2256933,\n",
       " 171934,\n",
       " 264710,\n",
       " 2449164,\n",
       " 2409109,\n",
       " 3347453,\n",
       " 813364,\n",
       " 2926893,\n",
       " 936852,\n",
       " 1730767,\n",
       " 1169835,\n",
       " 733526,\n",
       " 844733,\n",
       " 293169,\n",
       " 61355,\n",
       " 903110,\n",
       " 1968313,\n",
       " 733526,\n",
       " 2136777,\n",
       " 2926893,\n",
       " 404157,\n",
       " 1386261,\n",
       " 171934,\n",
       " 3125735,\n",
       " 747668,\n",
       " 3308010,\n",
       " 1169835,\n",
       " 1800005,\n",
       " 1961723,\n",
       " 936852,\n",
       " 2849370,\n",
       " 3308010,\n",
       " 61355,\n",
       " 871281,\n",
       " 1717990,\n",
       " 813364,\n",
       " 388234,\n",
       " 61355,\n",
       " 3125735,\n",
       " 1959075,\n",
       " 61355,\n",
       " 3125735,\n",
       " 1648217,\n",
       " 171934,\n",
       " 3125735,\n",
       " 61355,\n",
       " 1477139,\n",
       " 1959075,\n",
       " 1717990,\n",
       " 1717990,\n",
       " 61355,\n",
       " 1717990,\n",
       " 171934,\n",
       " 1038146,\n",
       " 3308010,\n",
       " 3347453,\n",
       " 102236,\n",
       " 936852,\n",
       " 171934,\n",
       " 1730767,\n",
       " 2926893,\n",
       " 1021563,\n",
       " 1832957,\n",
       " 1959075,\n",
       " 2256933,\n",
       " 1968313,\n",
       " 2721963,\n",
       " 293169,\n",
       " 102236,\n",
       " 3125735,\n",
       " 1959075,\n",
       " 264710,\n",
       " 678116,\n",
       " 1220886,\n",
       " 1386261,\n",
       " 171934,\n",
       " 1959075,\n",
       " 61355,\n",
       " 3308010,\n",
       " 61355,\n",
       " 102236,\n",
       " 388234,\n",
       " 171934,\n",
       " 3308010,\n",
       " 1961723,\n",
       " 2721963,\n",
       " 3308010,\n",
       " 1564093,\n",
       " 264710,\n",
       " 404157,\n",
       " 1673227,\n",
       " 813364,\n",
       " 2094761,\n",
       " 844733,\n",
       " 1386261,\n",
       " 1959075,\n",
       " 3125735,\n",
       " 61355,\n",
       " 102236,\n",
       " 3308010,\n",
       " 1386261,\n",
       " 936852,\n",
       " 2999801,\n",
       " 1038146,\n",
       " 1888628,\n",
       " 813364,\n",
       " 1800005,\n",
       " 1968313,\n",
       " 3308010,\n",
       " 2449164,\n",
       " 388234,\n",
       " 3125735,\n",
       " 102236,\n",
       " 903110,\n",
       " 1832957,\n",
       " 102236,\n",
       " 3308010,\n",
       " 2926893,\n",
       " 388234,\n",
       " 1800005,\n",
       " 2094761,\n",
       " 2721963,\n",
       " 844733,\n",
       " 2136777,\n",
       " 2926893,\n",
       " 813364,\n",
       " 2136777,\n",
       " 1673227,\n",
       " 1633337,\n",
       " 1021563,\n",
       " 102236,\n",
       " 1800005,\n",
       " 1477139,\n",
       " 2470674,\n",
       " 1220886,\n",
       " 2470674,\n",
       " 1648217,\n",
       " 264710,\n",
       " 1832957,\n",
       " 2721963,\n",
       " 2849370,\n",
       " 2625444,\n",
       " 871281,\n",
       " 1717990,\n",
       " 1220886,\n",
       " 1677118,\n",
       " 1730767,\n",
       " 1730767,\n",
       " 678116,\n",
       " 102236,\n",
       " 2136777,\n",
       " 61355,\n",
       " 2136777,\n",
       " 903110,\n",
       " 844733,\n",
       " 2849370,\n",
       " 1832957,\n",
       " 1730767,\n",
       " 2479011,\n",
       " 3383594,\n",
       " 61355,\n",
       " 1832957,\n",
       " 1021563,\n",
       " 1021563,\n",
       " 1959075,\n",
       " 1832957,\n",
       " 813364,\n",
       " 61355,\n",
       " 61355,\n",
       " 2926893,\n",
       " 1959075,\n",
       " 1648217,\n",
       " 2136777,\n",
       " 264710,\n",
       " 1800005,\n",
       " 2094761,\n",
       " 2926893,\n",
       " 1959075,\n",
       " 264710,\n",
       " 61355,\n",
       " 3308010,\n",
       " 2256933,\n",
       " 936852,\n",
       " 3308010,\n",
       " 1038146,\n",
       " 1183255,\n",
       " 2256933,\n",
       " 1832957,\n",
       " 1386261,\n",
       " 1713430,\n",
       " 1730767,\n",
       " 2136777,\n",
       " 3308010,\n",
       " 1717990,\n",
       " 171934,\n",
       " 1968313,\n",
       " 1717990,\n",
       " 2136777,\n",
       " 1648217,\n",
       " 1968313,\n",
       " 2652650,\n",
       " 733526,\n",
       " 1673227,\n",
       " 2849370,\n",
       " 61355,\n",
       " 3308010,\n",
       " 1169835,\n",
       " 3308010,\n",
       " 171934,\n",
       " 2999801,\n",
       " 1717990,\n",
       " 1386261,\n",
       " 936852,\n",
       " 1968313,\n",
       " 1713430,\n",
       " 1800005,\n",
       " 2136777,\n",
       " 264710,\n",
       " 264710,\n",
       " 2926893,\n",
       " 165801,\n",
       " 1598369,\n",
       " 2997021,\n",
       " 1730767,\n",
       " 61355,\n",
       " 1916118,\n",
       " 1730767,\n",
       " 3308010,\n",
       " 2479011,\n",
       " 2449164,\n",
       " 61355,\n",
       " 3125735,\n",
       " 2094761,\n",
       " 1888628,\n",
       " 3125735,\n",
       " 264710,\n",
       " 171934,\n",
       " 1800005,\n",
       " 1038146,\n",
       " 1959075,\n",
       " 102236,\n",
       " 3308010,\n",
       " 1386261,\n",
       " 1800005,\n",
       " 2470674,\n",
       " 2926893,\n",
       " 2470674,\n",
       " 102236,\n",
       " 3308010,\n",
       " 1717990,\n",
       " 903110,\n",
       " 2997021,\n",
       " 129627,\n",
       " 3383594,\n",
       " 3308010,\n",
       " 1386261,\n",
       " 854647,\n",
       " 102236,\n",
       " 1038146,\n",
       " 3308010,\n",
       " 936852,\n",
       " 264710,\n",
       " 264710,\n",
       " 1800005,\n",
       " 61355,\n",
       " 1220886,\n",
       " 2136777,\n",
       " 293169,\n",
       " 1800005,\n",
       " 1888628,\n",
       " 813364,\n",
       " 2136777,\n",
       " 61355,\n",
       " 1730767,\n",
       " 1021563,\n",
       " 2721963,\n",
       " 1730767,\n",
       " 1564093,\n",
       " 3308010,\n",
       " 2849370,\n",
       " 3308010,\n",
       " 1302315,\n",
       " 1888628,\n",
       " 61355,\n",
       " 1959075,\n",
       " 61355,\n",
       " 2136777,\n",
       " 733526,\n",
       " 3308010,\n",
       " 1730767,\n",
       " 1183255,\n",
       " 264710,\n",
       " 1730767,\n",
       " 678116,\n",
       " 2721963,\n",
       " 2136777,\n",
       " 3308010,\n",
       " 2721963,\n",
       " 2409109,\n",
       " 871281,\n",
       " 171934,\n",
       " 678116,\n",
       " 2849370,\n",
       " 813364,\n",
       " 3125735,\n",
       " 1730767,\n",
       " 61355,\n",
       " 2999801,\n",
       " 1648217,\n",
       " 936852,\n",
       " 3125735,\n",
       " 61355,\n",
       " 2849370,\n",
       " 1220886,\n",
       " 1959075,\n",
       " 2256933,\n",
       " 171934,\n",
       " 2926893,\n",
       " 2926893,\n",
       " 404157,\n",
       " 2136777,\n",
       " 3308010,\n",
       " 1021563,\n",
       " 404157,\n",
       " 171934,\n",
       " 61355,\n",
       " 2094761,\n",
       " 1832957,\n",
       " 293169,\n",
       " 813364,\n",
       " 293169,\n",
       " 3125735,\n",
       " 1021563,\n",
       " 1800005,\n",
       " 3308010,\n",
       " 936852,\n",
       " 264710,\n",
       " 171934,\n",
       " 888470,\n",
       " 1673227,\n",
       " 871281,\n",
       " 1800005,\n",
       " 3308010,\n",
       " 1730767,\n",
       " 180546,\n",
       " 2621907,\n",
       " 1730767,\n",
       " 936852,\n",
       " 1959075,\n",
       " 1169835,\n",
       " 1730767,\n",
       " 2926893,\n",
       " 854647,\n",
       " 2449164,\n",
       " 3308010,\n",
       " 2470674,\n",
       " 1183255,\n",
       " 61355,\n",
       " 1386261,\n",
       " 903110,\n",
       " 2094761,\n",
       " 903110,\n",
       " 264710,\n",
       " 1648217,\n",
       " 293169,\n",
       " 2479011,\n",
       " 1730767,\n",
       " 1730767,\n",
       " 2926893,\n",
       " 61355,\n",
       " 3125735,\n",
       " 1959075,\n",
       " 2409109,\n",
       " 2926893,\n",
       " 1021563,\n",
       " 1386261,\n",
       " 3308010,\n",
       " 2926893,\n",
       " 1800005,\n",
       " 61355,\n",
       " 2449164,\n",
       " 102236,\n",
       " 3308010,\n",
       " 1308785,\n",
       " 1800005,\n",
       " 2926893,\n",
       " 61355,\n",
       " 2136777,\n",
       " 1717990,\n",
       " 3308010,\n",
       " 1730767,\n",
       " 871281,\n",
       " 1673227,\n",
       " 102236,\n",
       " 2136777,\n",
       " 1717990,\n",
       " 813364,\n",
       " 1800005,\n",
       " 1959075,\n",
       " 813364,\n",
       " 165801,\n",
       " 2136777,\n",
       " 2729254,\n",
       " 1673227,\n",
       " 1961723,\n",
       " 61355,\n",
       " 1183255,\n",
       " 2136777,\n",
       " 1302315,\n",
       " 1386261,\n",
       " 2849370,\n",
       " 171934,\n",
       " 2136777,\n",
       " 3308010,\n",
       " 733526,\n",
       " 1959075,\n",
       " 9310,\n",
       " 813364,\n",
       " 2170451,\n",
       " 1800005,\n",
       " 404157,\n",
       " 871281,\n",
       " 3125735,\n",
       " 2721963,\n",
       " 404157,\n",
       " 129627,\n",
       " 678116,\n",
       " 2926893,\n",
       " 264710,\n",
       " 2256933,\n",
       " 102236,\n",
       " 102236,\n",
       " 1021563,\n",
       " 264710,\n",
       " 2926893,\n",
       " 936852,\n",
       " 102236,\n",
       " 1968313,\n",
       " 936852,\n",
       " 293169,\n",
       " 2136777,\n",
       " 2136777,\n",
       " 61355,\n",
       " 1183255,\n",
       " 1730767,\n",
       " 1800005,\n",
       " 2479011,\n",
       " 1386261,\n",
       " 1800005,\n",
       " 1673227,\n",
       " 3308010,\n",
       " 2926893,\n",
       " 2926893,\n",
       " 61355,\n",
       " 1832957,\n",
       " 1717990,\n",
       " 813364,\n",
       " 2999801,\n",
       " 264710,\n",
       " 3308010,\n",
       " 3347453,\n",
       " 3308010,\n",
       " 936852,\n",
       " 813364,\n",
       " 404157,\n",
       " 171934,\n",
       " 903110,\n",
       " 871281,\n",
       " 102236,\n",
       " 61355,\n",
       " 813364,\n",
       " 102236,\n",
       " 3308010,\n",
       " 1800005,\n",
       " 1832957,\n",
       " 2479011,\n",
       " 171934,\n",
       " 171934,\n",
       " 844733,\n",
       " 3308010,\n",
       " 171934,\n",
       " 1800005,\n",
       " 404157,\n",
       " 1673227,\n",
       " 3383594,\n",
       " 3308010,\n",
       " 2136777,\n",
       " 102236,\n",
       " 1717990,\n",
       " 2094761,\n",
       " 102236,\n",
       " 1959075,\n",
       " 171934,\n",
       " 2136777,\n",
       " 1386261,\n",
       " 2136777,\n",
       " 2449164,\n",
       " 171934,\n",
       " 3308010,\n",
       " 1220886,\n",
       " 2136777,\n",
       " 1959075,\n",
       " 2136777,\n",
       " 171934,\n",
       " 936852,\n",
       " 3308010,\n",
       " 2470674,\n",
       " 871281,\n",
       " 2721963,\n",
       " 102236,\n",
       " 61355,\n",
       " 3125735,\n",
       " 3308010,\n",
       " 1386261,\n",
       " 1717990,\n",
       " 293169,\n",
       " 61355,\n",
       " 1386261,\n",
       " 2721963,\n",
       " 2136777,\n",
       " 1888628,\n",
       " 264710,\n",
       " 1564093,\n",
       " 2136777,\n",
       " 1730767,\n",
       " 2849370,\n",
       " 2721963,\n",
       " 293169,\n",
       " 264710,\n",
       " 2721963,\n",
       " 3125735,\n",
       " 1959075,\n",
       " 404157,\n",
       " 171934,\n",
       " 61355,\n",
       " 1959075,\n",
       " 871281,\n",
       " 61355,\n",
       " 1183255,\n",
       " 1673227,\n",
       " 2849370,\n",
       " 1477139,\n",
       " 1730767,\n",
       " 903110,\n",
       " 844733,\n",
       " 3308010,\n",
       " 1673227,\n",
       " 61355,\n",
       " 171934,\n",
       " 2926893,\n",
       " 2926893,\n",
       " 1959075,\n",
       " 2479011,\n",
       " 3347453,\n",
       " 2721963,\n",
       " 2625444,\n",
       " 171934,\n",
       " 813364,\n",
       " 102236,\n",
       " 61355,\n",
       " 844733,\n",
       " 2721963,\n",
       " 1302315,\n",
       " 813364,\n",
       " 61355,\n",
       " 2926893,\n",
       " 1968313,\n",
       " 1968313,\n",
       " 264710,\n",
       " 1717990,\n",
       " 1730767,\n",
       " 2136777,\n",
       " 2721963,\n",
       " 2136777,\n",
       " 2721963,\n",
       " 171934,\n",
       " 171934,\n",
       " 2979697,\n",
       " 1730767,\n",
       " 1888628,\n",
       " 1625713,\n",
       " 2136777,\n",
       " 1800005,\n",
       " 2094761,\n",
       " 1961723,\n",
       " 1564093,\n",
       " 1959075,\n",
       " 1916118,\n",
       " 61355,\n",
       " 2997021,\n",
       " 293169,\n",
       " 3308010,\n",
       " 1529171,\n",
       " 61355,\n",
       " 2256933,\n",
       " 1959075,\n",
       " 2449164,\n",
       " 1673227,\n",
       " 2479011,\n",
       " 1888628,\n",
       " 1800005,\n",
       " 2470674,\n",
       " 1386261,\n",
       " 3125735,\n",
       " 2721963,\n",
       " 2926893,\n",
       " 1800005,\n",
       " 1386261,\n",
       " 2136777,\n",
       " 61355,\n",
       " 171934,\n",
       " 3308010,\n",
       " 61355,\n",
       " 936852,\n",
       " 61355,\n",
       " 936852,\n",
       " 293169,\n",
       " 1386261,\n",
       " 171934,\n",
       " 1800005,\n",
       " 871281,\n",
       " 3125735,\n",
       " 61355,\n",
       " 1959075,\n",
       " 1968313,\n",
       " 1717990,\n",
       " 3308010,\n",
       " 844733,\n",
       " 129627,\n",
       " 844733,\n",
       " 264710,\n",
       " 165801,\n",
       " 1386261,\n",
       " 2136777,\n",
       " 2721963,\n",
       " 1730767,\n",
       " 3125735,\n",
       " 2136777,\n",
       " 1183255,\n",
       " 171934,\n",
       " 936852,\n",
       " 854647,\n",
       " 1386261,\n",
       " 2926893,\n",
       " 1961723,\n",
       " 61355,\n",
       " 1730767,\n",
       " 1633337,\n",
       " 61355,\n",
       " 1959075,\n",
       " 102236,\n",
       " 404157,\n",
       " 1968313,\n",
       " 1386261,\n",
       " 2136777,\n",
       " 2999801,\n",
       " 1529171,\n",
       " 2721963,\n",
       " 61355,\n",
       " 3383594,\n",
       " 1730767,\n",
       " 936852,\n",
       " 2926893,\n",
       " 102236,\n",
       " 1959075,\n",
       " 102236,\n",
       " 1713430,\n",
       " 3383594,\n",
       " 102236,\n",
       " 1959075,\n",
       " 678116,\n",
       " 2449164,\n",
       " 844733,\n",
       " 61355,\n",
       " 3308010,\n",
       " 61355,\n",
       " 2136777,\n",
       " 264710,\n",
       " 171934,\n",
       " 813364,\n",
       " 3308010,\n",
       " 1730767,\n",
       " 61355,\n",
       " 102236,\n",
       " 61355,\n",
       " 1717990,\n",
       " 3308010,\n",
       " 1968313,\n",
       " 129627,\n",
       " 936852,\n",
       " 61355,\n",
       " 61355,\n",
       " 165801,\n",
       " 2409109,\n",
       " 2926893,\n",
       " 61355,\n",
       " 1961723,\n",
       " 1832957,\n",
       " 1961723,\n",
       " 1183255,\n",
       " 61355,\n",
       " 2999801,\n",
       " 1220886,\n",
       " 3125735,\n",
       " 171934,\n",
       " 388234,\n",
       " 102236,\n",
       " 102236,\n",
       " 61355,\n",
       " 2721963,\n",
       " 1800005,\n",
       " 1968313,\n",
       " 2136777,\n",
       " 61355,\n",
       " 1220886,\n",
       " 61355,\n",
       " 936852,\n",
       " 1673227,\n",
       " 936852,\n",
       " 1673227,\n",
       " 1625713,\n",
       " 171934,\n",
       " 2136777,\n",
       " 1800005,\n",
       " 1730767,\n",
       " 264710,\n",
       " 102236,\n",
       " 61355,\n",
       " 903110,\n",
       " 2136777,\n",
       " 1959075,\n",
       " 3125735,\n",
       " 171934,\n",
       " 1169835,\n",
       " 3308010,\n",
       " 61355,\n",
       " 1959075,\n",
       " 2721963,\n",
       " 813364,\n",
       " 1477139,\n",
       " 1888628,\n",
       " 1730767,\n",
       " 1959075,\n",
       " 2479011,\n",
       " 3308010,\n",
       " 2721963,\n",
       " 1717990,\n",
       " 2409109,\n",
       " 171934,\n",
       " 171934,\n",
       " 1183255,\n",
       " 1800005,\n",
       " 171934,\n",
       " 2136777,\n",
       " 388234,\n",
       " 264710,\n",
       " 61355,\n",
       " 1730767,\n",
       " 1717990,\n",
       " 1916118,\n",
       " 264710,\n",
       " 3125735,\n",
       " 1959075,\n",
       " 813364,\n",
       " 3347453,\n",
       " 293169,\n",
       " 171934,\n",
       " 1386261,\n",
       " 1183255,\n",
       " 1717990,\n",
       " 1308785,\n",
       " 2625444,\n",
       " 171934,\n",
       " 102236,\n",
       " 1386261,\n",
       " 1968313,\n",
       " 1386261,\n",
       " 404157,\n",
       " 1959075,\n",
       " 1832957,\n",
       " 1961723,\n",
       " 936852,\n",
       " 1386261,\n",
       " 2449164,\n",
       " 171934,\n",
       " 1959075,\n",
       " 2449164,\n",
       " 180546,\n",
       " 1183255,\n",
       " 1386261,\n",
       " 1968313,\n",
       " 2136777,\n",
       " 3308010,\n",
       " 2479011,\n",
       " 2979697,\n",
       " 1888628,\n",
       " 1832957,\n",
       " 1961723,\n",
       " 1800005,\n",
       " 1633337,\n",
       " 404157,\n",
       " 1673227,\n",
       " 1832957]"
      ]
     },
     "execution_count": 37,
     "metadata": {},
     "output_type": "execute_result"
    }
   ],
   "source": [
    "# Guarda todas las IDs de pedidos que tengan un valor ausente en 'add_to_cart_order'\n",
    "mis_booleans = df_order_products['add_to_cart_order'].isna()\n",
    "df_order_products[mis_booleans].order_id \n",
    "list_lost_values = list(df_order_products[mis_booleans].order_id )\n",
    "list_lost_values    "
   ]
  },
  {
   "cell_type": "code",
   "execution_count": 64,
   "id": "54c31695",
   "metadata": {
    "id": "54c31695"
   },
   "outputs": [
    {
     "data": {
      "text/plain": [
       "order_id\n",
       "9310        65\n",
       "61355      127\n",
       "102236      95\n",
       "129627      69\n",
       "165801      70\n",
       "          ... \n",
       "2999801     70\n",
       "3125735     86\n",
       "3308010    115\n",
       "3347453     71\n",
       "3383594     69\n",
       "Name: product_id, Length: 70, dtype: int64"
      ]
     },
     "execution_count": 64,
     "metadata": {},
     "output_type": "execute_result"
    }
   ],
   "source": [
    "# ¿Todos los pedidos con valores ausentes tienen más de 64 productos?\n",
    "# Agrupa todos los pedidos con datos ausentes por su ID de pedido.\n",
    "# Cuenta el número de 'product_id' en cada pedido y revisa el valor mínimo del conteo.\n",
    "\n",
    "m1 = df_order_products[df_order_products['order_id'].isin(list_lost_values)]\n",
    "df_new = m1.groupby(['order_id'])['product_id'].count()\n",
    "df_new\n",
    "#df_new.min()"
   ]
  },
  {
   "cell_type": "markdown",
   "id": "p9V6pddtjglj",
   "metadata": {
    "id": "p9V6pddtjglj"
   },
   "source": [
    "Describe brevemente cuáles son tus hallazgos.\n",
    "\n",
    "Luego del conteo de productos en cada pedido, el valor mínimo es 65 productos."
   ]
  },
  {
   "cell_type": "code",
   "execution_count": 39,
   "id": "7a987d08",
   "metadata": {
    "id": "7a987d08"
   },
   "outputs": [],
   "source": [
    "# Remplaza los valores ausentes en la columna 'add_to_cart? con 999 y convierte la columna al tipo entero.\n",
    "df_order_products['add_to_cart_order'].fillna('999', inplace=True) \n",
    "df_order_products['add_to_cart_order'] = df_order_products['add_to_cart_order'].astype('int')"
   ]
  },
  {
   "cell_type": "markdown",
   "id": "fea4bcc7",
   "metadata": {
    "id": "fea4bcc7"
   },
   "source": [
    "Describe brevemente tus hallazgos y lo que hiciste con ellos.\n",
    "\n",
    "Se encontraron valores ausentes en la columna add_to_cart_order, valores cuyos cuales fueron reemplazados por 999."
   ]
  },
  {
   "cell_type": "markdown",
   "id": "RnplPFY1gSrb",
   "metadata": {
    "id": "RnplPFY1gSrb"
   },
   "source": [
    "## Conclusiones\n",
    "\n",
    "Escribe aquí tus conclusiones intermedias sobre el Paso 2. Preprocesamiento de los datos\n",
    "\n",
    "En el Paso 2 que se refiere al Preprocesamiento de los datos, se han ejecutado varias acciones para garantizar la calidad y limpieza de los datos, a saber, identificación y tratamiento de valores faltantes en todas y cada una de las columnas de los datasets a utilizar, sienso sustituidos en algunos casos por Preprocesamiento de los datos y en otros por 999. Además, se chequeó la existencia de valores duplicados, los cuales fueron eliminados, por otro parte, se reconvirtió al tipo entero \n",
    "la columna add_to_cart_order en la tabla order_products."
   ]
  },
  {
   "cell_type": "markdown",
   "id": "UjrOIwTcz3ri",
   "metadata": {
    "id": "UjrOIwTcz3ri"
   },
   "source": [
    "# Paso 3. Análisis de los datos\n",
    "\n",
    "Una vez los datos estén procesados y listos, haz el siguiente análisis:"
   ]
  },
  {
   "cell_type": "markdown",
   "id": "turkish-kidney",
   "metadata": {
    "id": "turkish-kidney"
   },
   "source": [
    "# [A] Fácil (deben completarse todos para aprobar)\n",
    "\n",
    "1. Verifica que los valores en las columnas `'order_hour_of_day'` y `'order_dow'` en la tabla orders sean razonables (es decir, `'order_hour_of_day'` oscile entre 0 y 23 y `'order_dow'` oscile entre 0 y 6).\n",
    "2. Crea un gráfico que muestre el número de personas que hacen pedidos dependiendo de la hora del día.\n",
    "3. Crea un gráfico que muestre qué día de la semana la gente hace sus compras.\n",
    "4. Crea un gráfico que muestre el tiempo que la gente espera hasta hacer su siguiente pedido, y comenta sobre los valores mínimos y máximos."
   ]
  },
  {
   "cell_type": "markdown",
   "id": "short-capability",
   "metadata": {
    "id": "short-capability"
   },
   "source": [
    "### [A1] Verifica que los valores sean sensibles"
   ]
  },
  {
   "cell_type": "code",
   "execution_count": 40,
   "id": "growing-fruit",
   "metadata": {
    "id": "growing-fruit"
   },
   "outputs": [
    {
     "data": {
      "text/html": [
       "<div>\n",
       "<style scoped>\n",
       "    .dataframe tbody tr th:only-of-type {\n",
       "        vertical-align: middle;\n",
       "    }\n",
       "\n",
       "    .dataframe tbody tr th {\n",
       "        vertical-align: top;\n",
       "    }\n",
       "\n",
       "    .dataframe thead th {\n",
       "        text-align: right;\n",
       "    }\n",
       "</style>\n",
       "<table border=\"1\" class=\"dataframe\">\n",
       "  <thead>\n",
       "    <tr style=\"text-align: right;\">\n",
       "      <th></th>\n",
       "      <th>order_id</th>\n",
       "      <th>user_id</th>\n",
       "      <th>order_number</th>\n",
       "      <th>order_dow</th>\n",
       "      <th>order_hour_of_day</th>\n",
       "      <th>days_since_prior_order</th>\n",
       "    </tr>\n",
       "  </thead>\n",
       "  <tbody>\n",
       "    <tr>\n",
       "      <th>0</th>\n",
       "      <td>1515936</td>\n",
       "      <td>183418</td>\n",
       "      <td>11</td>\n",
       "      <td>6</td>\n",
       "      <td>13</td>\n",
       "      <td>30.0</td>\n",
       "    </tr>\n",
       "    <tr>\n",
       "      <th>1</th>\n",
       "      <td>1690866</td>\n",
       "      <td>163593</td>\n",
       "      <td>5</td>\n",
       "      <td>5</td>\n",
       "      <td>12</td>\n",
       "      <td>9.0</td>\n",
       "    </tr>\n",
       "    <tr>\n",
       "      <th>2</th>\n",
       "      <td>1454967</td>\n",
       "      <td>39980</td>\n",
       "      <td>4</td>\n",
       "      <td>5</td>\n",
       "      <td>19</td>\n",
       "      <td>2.0</td>\n",
       "    </tr>\n",
       "    <tr>\n",
       "      <th>3</th>\n",
       "      <td>1768857</td>\n",
       "      <td>82516</td>\n",
       "      <td>56</td>\n",
       "      <td>0</td>\n",
       "      <td>20</td>\n",
       "      <td>10.0</td>\n",
       "    </tr>\n",
       "    <tr>\n",
       "      <th>4</th>\n",
       "      <td>3007858</td>\n",
       "      <td>196724</td>\n",
       "      <td>2</td>\n",
       "      <td>4</td>\n",
       "      <td>12</td>\n",
       "      <td>17.0</td>\n",
       "    </tr>\n",
       "    <tr>\n",
       "      <th>...</th>\n",
       "      <td>...</td>\n",
       "      <td>...</td>\n",
       "      <td>...</td>\n",
       "      <td>...</td>\n",
       "      <td>...</td>\n",
       "      <td>...</td>\n",
       "    </tr>\n",
       "    <tr>\n",
       "      <th>478947</th>\n",
       "      <td>3210681</td>\n",
       "      <td>5617</td>\n",
       "      <td>5</td>\n",
       "      <td>1</td>\n",
       "      <td>14</td>\n",
       "      <td>7.0</td>\n",
       "    </tr>\n",
       "    <tr>\n",
       "      <th>478948</th>\n",
       "      <td>3270802</td>\n",
       "      <td>112087</td>\n",
       "      <td>2</td>\n",
       "      <td>3</td>\n",
       "      <td>13</td>\n",
       "      <td>6.0</td>\n",
       "    </tr>\n",
       "    <tr>\n",
       "      <th>478949</th>\n",
       "      <td>885349</td>\n",
       "      <td>82944</td>\n",
       "      <td>16</td>\n",
       "      <td>2</td>\n",
       "      <td>11</td>\n",
       "      <td>6.0</td>\n",
       "    </tr>\n",
       "    <tr>\n",
       "      <th>478950</th>\n",
       "      <td>216274</td>\n",
       "      <td>4391</td>\n",
       "      <td>3</td>\n",
       "      <td>3</td>\n",
       "      <td>8</td>\n",
       "      <td>8.0</td>\n",
       "    </tr>\n",
       "    <tr>\n",
       "      <th>478951</th>\n",
       "      <td>2071924</td>\n",
       "      <td>1730</td>\n",
       "      <td>18</td>\n",
       "      <td>1</td>\n",
       "      <td>14</td>\n",
       "      <td>15.0</td>\n",
       "    </tr>\n",
       "  </tbody>\n",
       "</table>\n",
       "<p>478952 rows × 6 columns</p>\n",
       "</div>"
      ],
      "text/plain": [
       "        order_id  user_id  order_number  order_dow  order_hour_of_day  \\\n",
       "0        1515936   183418            11          6                 13   \n",
       "1        1690866   163593             5          5                 12   \n",
       "2        1454967    39980             4          5                 19   \n",
       "3        1768857    82516            56          0                 20   \n",
       "4        3007858   196724             2          4                 12   \n",
       "...          ...      ...           ...        ...                ...   \n",
       "478947   3210681     5617             5          1                 14   \n",
       "478948   3270802   112087             2          3                 13   \n",
       "478949    885349    82944            16          2                 11   \n",
       "478950    216274     4391             3          3                  8   \n",
       "478951   2071924     1730            18          1                 14   \n",
       "\n",
       "        days_since_prior_order  \n",
       "0                         30.0  \n",
       "1                          9.0  \n",
       "2                          2.0  \n",
       "3                         10.0  \n",
       "4                         17.0  \n",
       "...                        ...  \n",
       "478947                     7.0  \n",
       "478948                     6.0  \n",
       "478949                     6.0  \n",
       "478950                     8.0  \n",
       "478951                    15.0  \n",
       "\n",
       "[478952 rows x 6 columns]"
      ]
     },
     "execution_count": 40,
     "metadata": {},
     "output_type": "execute_result"
    }
   ],
   "source": [
    "df_instacar_orders[( df_instacar_orders['order_hour_of_day'] >= 0) & (df_instacar_orders['order_hour_of_day'] <= 23)]"
   ]
  },
  {
   "cell_type": "code",
   "execution_count": 41,
   "id": "2665f4ff",
   "metadata": {},
   "outputs": [
    {
     "data": {
      "text/plain": [
       "0"
      ]
     },
     "execution_count": 41,
     "metadata": {},
     "output_type": "execute_result"
    }
   ],
   "source": [
    "number_of_orders_out_or_range1 = ( ~((df_instacar_orders['order_dow'] >= 0) & (df_instacar_orders['order_dow'] <= 23) )  == True).sum()\n",
    "number_of_orders_out_or_range1"
   ]
  },
  {
   "cell_type": "code",
   "execution_count": 42,
   "id": "accessory-malaysia",
   "metadata": {
    "id": "accessory-malaysia"
   },
   "outputs": [
    {
     "data": {
      "text/html": [
       "<div>\n",
       "<style scoped>\n",
       "    .dataframe tbody tr th:only-of-type {\n",
       "        vertical-align: middle;\n",
       "    }\n",
       "\n",
       "    .dataframe tbody tr th {\n",
       "        vertical-align: top;\n",
       "    }\n",
       "\n",
       "    .dataframe thead th {\n",
       "        text-align: right;\n",
       "    }\n",
       "</style>\n",
       "<table border=\"1\" class=\"dataframe\">\n",
       "  <thead>\n",
       "    <tr style=\"text-align: right;\">\n",
       "      <th></th>\n",
       "      <th>order_id</th>\n",
       "      <th>user_id</th>\n",
       "      <th>order_number</th>\n",
       "      <th>order_dow</th>\n",
       "      <th>order_hour_of_day</th>\n",
       "      <th>days_since_prior_order</th>\n",
       "    </tr>\n",
       "  </thead>\n",
       "  <tbody>\n",
       "    <tr>\n",
       "      <th>0</th>\n",
       "      <td>1515936</td>\n",
       "      <td>183418</td>\n",
       "      <td>11</td>\n",
       "      <td>6</td>\n",
       "      <td>13</td>\n",
       "      <td>30.0</td>\n",
       "    </tr>\n",
       "    <tr>\n",
       "      <th>1</th>\n",
       "      <td>1690866</td>\n",
       "      <td>163593</td>\n",
       "      <td>5</td>\n",
       "      <td>5</td>\n",
       "      <td>12</td>\n",
       "      <td>9.0</td>\n",
       "    </tr>\n",
       "    <tr>\n",
       "      <th>2</th>\n",
       "      <td>1454967</td>\n",
       "      <td>39980</td>\n",
       "      <td>4</td>\n",
       "      <td>5</td>\n",
       "      <td>19</td>\n",
       "      <td>2.0</td>\n",
       "    </tr>\n",
       "    <tr>\n",
       "      <th>3</th>\n",
       "      <td>1768857</td>\n",
       "      <td>82516</td>\n",
       "      <td>56</td>\n",
       "      <td>0</td>\n",
       "      <td>20</td>\n",
       "      <td>10.0</td>\n",
       "    </tr>\n",
       "    <tr>\n",
       "      <th>4</th>\n",
       "      <td>3007858</td>\n",
       "      <td>196724</td>\n",
       "      <td>2</td>\n",
       "      <td>4</td>\n",
       "      <td>12</td>\n",
       "      <td>17.0</td>\n",
       "    </tr>\n",
       "    <tr>\n",
       "      <th>...</th>\n",
       "      <td>...</td>\n",
       "      <td>...</td>\n",
       "      <td>...</td>\n",
       "      <td>...</td>\n",
       "      <td>...</td>\n",
       "      <td>...</td>\n",
       "    </tr>\n",
       "    <tr>\n",
       "      <th>478947</th>\n",
       "      <td>3210681</td>\n",
       "      <td>5617</td>\n",
       "      <td>5</td>\n",
       "      <td>1</td>\n",
       "      <td>14</td>\n",
       "      <td>7.0</td>\n",
       "    </tr>\n",
       "    <tr>\n",
       "      <th>478948</th>\n",
       "      <td>3270802</td>\n",
       "      <td>112087</td>\n",
       "      <td>2</td>\n",
       "      <td>3</td>\n",
       "      <td>13</td>\n",
       "      <td>6.0</td>\n",
       "    </tr>\n",
       "    <tr>\n",
       "      <th>478949</th>\n",
       "      <td>885349</td>\n",
       "      <td>82944</td>\n",
       "      <td>16</td>\n",
       "      <td>2</td>\n",
       "      <td>11</td>\n",
       "      <td>6.0</td>\n",
       "    </tr>\n",
       "    <tr>\n",
       "      <th>478950</th>\n",
       "      <td>216274</td>\n",
       "      <td>4391</td>\n",
       "      <td>3</td>\n",
       "      <td>3</td>\n",
       "      <td>8</td>\n",
       "      <td>8.0</td>\n",
       "    </tr>\n",
       "    <tr>\n",
       "      <th>478951</th>\n",
       "      <td>2071924</td>\n",
       "      <td>1730</td>\n",
       "      <td>18</td>\n",
       "      <td>1</td>\n",
       "      <td>14</td>\n",
       "      <td>15.0</td>\n",
       "    </tr>\n",
       "  </tbody>\n",
       "</table>\n",
       "<p>478952 rows × 6 columns</p>\n",
       "</div>"
      ],
      "text/plain": [
       "        order_id  user_id  order_number  order_dow  order_hour_of_day  \\\n",
       "0        1515936   183418            11          6                 13   \n",
       "1        1690866   163593             5          5                 12   \n",
       "2        1454967    39980             4          5                 19   \n",
       "3        1768857    82516            56          0                 20   \n",
       "4        3007858   196724             2          4                 12   \n",
       "...          ...      ...           ...        ...                ...   \n",
       "478947   3210681     5617             5          1                 14   \n",
       "478948   3270802   112087             2          3                 13   \n",
       "478949    885349    82944            16          2                 11   \n",
       "478950    216274     4391             3          3                  8   \n",
       "478951   2071924     1730            18          1                 14   \n",
       "\n",
       "        days_since_prior_order  \n",
       "0                         30.0  \n",
       "1                          9.0  \n",
       "2                          2.0  \n",
       "3                         10.0  \n",
       "4                         17.0  \n",
       "...                        ...  \n",
       "478947                     7.0  \n",
       "478948                     6.0  \n",
       "478949                     6.0  \n",
       "478950                     8.0  \n",
       "478951                    15.0  \n",
       "\n",
       "[478952 rows x 6 columns]"
      ]
     },
     "execution_count": 42,
     "metadata": {},
     "output_type": "execute_result"
    }
   ],
   "source": [
    "df_instacar_orders[( df_instacar_orders['order_dow'] >= 0) & (df_instacar_orders['order_dow'] <= 6)]"
   ]
  },
  {
   "cell_type": "code",
   "execution_count": 43,
   "id": "53587c02",
   "metadata": {},
   "outputs": [
    {
     "data": {
      "text/plain": [
       "0"
      ]
     },
     "execution_count": 43,
     "metadata": {},
     "output_type": "execute_result"
    }
   ],
   "source": [
    "number_of_orders_out_or_range2 = ( ~((df_instacar_orders['order_dow'] >= 0) & (df_instacar_orders['order_dow'] <= 6) )  == True).sum()\n",
    "number_of_orders_out_or_range2"
   ]
  },
  {
   "cell_type": "markdown",
   "id": "hmR2GNQ6lCsX",
   "metadata": {
    "id": "hmR2GNQ6lCsX"
   },
   "source": [
    "Escribe aquí tus conclusiones\n",
    "\n",
    "No existen registros que estén fuera del rango sensible, tanto en la columna order_hour_of_day como en la columna order_dow en la tabla instacar_orders, lo cual queda evidenciado en el valor 0 mostrado anteriomente."
   ]
  },
  {
   "cell_type": "markdown",
   "id": "a6743a70",
   "metadata": {
    "id": "a6743a70"
   },
   "source": [
    "### [A2] Para cada hora del día, ¿cuántas personas hacen órdenes?"
   ]
  },
  {
   "cell_type": "code",
   "execution_count": 44,
   "id": "a36cca27",
   "metadata": {
    "id": "a36cca27"
   },
   "outputs": [
    {
     "data": {
      "text/plain": [
       "<Axes: title={'center': 'Distribución de las compras durante el día'}, xlabel='Horas del día', ylabel='Cantidad de órdenes'>"
      ]
     },
     "execution_count": 44,
     "metadata": {},
     "output_type": "execute_result"
    },
    {
     "data": {
      "image/png": "[encoded data removed]",
      "text/plain": [
       "<Figure size 1600x500 with 1 Axes>"
      ]
     },
     "metadata": {},
     "output_type": "display_data"
    }
   ],
   "source": [
    "# Dado que se desea mostrar la evolución de compras a largo del tiempo, el tipo de gráfico más adecuado es el Bar chart.\n",
    "plt.style.use('ggplot')\n",
    "df_instacar_orders.groupby(['order_hour_of_day'])['user_id'].count().plot( x='order_hour_of_day',\n",
    "        y='user_id',\n",
    "        kind='bar',\n",
    "        title='Distribución de las compras durante el día',\n",
    "        xlabel='Horas del día',\n",
    "        ylabel='Cantidad de órdenes',\n",
    "         figsize=(16,5), rot=0)"
   ]
  },
  {
   "cell_type": "markdown",
   "id": "11270eed",
   "metadata": {
    "id": "11270eed"
   },
   "source": [
    "Escribe aquí tus conclusiones\n",
    "\n",
    "Se puede observar que en el rango de horario comprendido entre las 9 am a las 16:00 pm, se produce el mayor volumen de órdenes."
   ]
  },
  {
   "cell_type": "markdown",
   "id": "documented-command",
   "metadata": {
    "id": "documented-command"
   },
   "source": [
    "### [A3] ¿Qué día de la semana compran víveres las personas?"
   ]
  },
  {
   "cell_type": "code",
   "execution_count": 45,
   "id": "chief-digit",
   "metadata": {
    "id": "chief-digit"
   },
   "outputs": [
    {
     "data": {
      "text/plain": [
       "<Axes: title={'center': 'Distribución de las compras por día de la semana'}, xlabel='Días de la semana', ylabel='Cantidad de órdenes'>"
      ]
     },
     "execution_count": 45,
     "metadata": {},
     "output_type": "execute_result"
    },
    {
     "data": {
      "image/png": "[encoded data removed]",
      "text/plain": [
       "<Figure size 640x480 with 1 Axes>"
      ]
     },
     "metadata": {},
     "output_type": "display_data"
    }
   ],
   "source": [
    "# Dado que se desea mostrar la evolución de compras a largo del tiempo, el tipo de gráfico más adecuado es el Bar chart.\n",
    "df_instacar_orders.groupby(['order_dow'])['user_id'].count().plot( x='order_dow',\n",
    "        y='user_id',\n",
    "        kind='bar',\n",
    "        title='Distribución de las compras por día de la semana',\n",
    "        xlabel='Días de la semana',\n",
    "        ylabel='Cantidad de órdenes', rot=0)"
   ]
  },
  {
   "cell_type": "markdown",
   "id": "dominant-lightning",
   "metadata": {
    "id": "dominant-lightning"
   },
   "source": [
    "Escribe aquí tus conclusiones\n",
    "\n",
    "Se puede apreciar que los domingos y los lunes son los días en los que ocurren la mator cantida de órdenes por parte de los clientes."
   ]
  },
  {
   "cell_type": "markdown",
   "id": "cutting-concert",
   "metadata": {
    "id": "cutting-concert"
   },
   "source": [
    "### [A4] ¿Cuánto tiempo esperan las personas hasta hacer otro pedido? Comenta sobre los valores mínimos y máximos."
   ]
  },
  {
   "cell_type": "code",
   "execution_count": 46,
   "id": "c231f523",
   "metadata": {
    "id": "c231f523"
   },
   "outputs": [],
   "source": []
  },
  {
   "cell_type": "code",
   "execution_count": 47,
   "id": "e1d76b8a",
   "metadata": {},
   "outputs": [
    {
     "data": {
      "image/png": "[encoded data removed]",
      "text/plain": [
       "<Figure size 1200x800 with 1 Axes>"
      ]
     },
     "metadata": {},
     "output_type": "display_data"
    }
   ],
   "source": [
    "plt.style.use('ggplot')\n",
    "freq_series = df_instacar_orders.groupby(['days_since_prior_order'])['user_id'].count()\n",
    "x_labels =  [0, 1,2,3,4,5,6,7,8,9, 10,11,12,13,14,15,16,17,18,19,20,21,22,23, 24,25,26,27,28,29,30]\n",
    "\n",
    "# Plot the figure.\n",
    "plt.figure(figsize=(12, 8))\n",
    "fig = freq_series.plot(kind='bar')\n",
    "fig.set_title('Días previos esperados hasta la siguiente orden')\n",
    "fig.set_xlabel('Cantidad de días previos esperados')\n",
    "fig.set_ylabel('Cantidad de clientes')\n",
    "fig.set_xticklabels(x_labels, rotation=0)\n",
    "plt.show()"
   ]
  },
  {
   "cell_type": "markdown",
   "id": "discrete-vertex",
   "metadata": {
    "id": "discrete-vertex"
   },
   "source": [
    "Escribe aquí tus conclusiones\n",
    "\n",
    "- El rango de horario que concentra la mayor cantidad de pedidos está comprendido entre las 9 am y las 16 pm   \n",
    "- Los días de la semana en los que se realizan los mayores pedidos son los domingos y los lunes\n",
    "- De las cantidades de tiempo que transcurren entre un pedido y otro, la mayoría de los clientes esperan 7 días antes de realizar el siguiente pedido."
   ]
  },
  {
   "cell_type": "markdown",
   "id": "tight-staff",
   "metadata": {
    "id": "tight-staff"
   },
   "source": [
    "# [B] Intermedio (deben completarse todos para aprobar)\n",
    "\n",
    "1. ¿Existe alguna diferencia entre las distribuciones `'order_hour_of_day'` de los miércoles y los sábados? Traza gráficos de barra de `'order_hour_of_day'` para ambos días en la misma figura y describe las diferencias que observes.\n",
    "2. Grafica la distribución para el número de órdenes que hacen los clientes (es decir, cuántos clientes hicieron solo 1 pedido, cuántos hicieron 2, cuántos 3, y así sucesivamente...).\n",
    "3. ¿Cuáles son los 20 principales productos que se piden con más frecuencia (muestra su identificación y nombre)?"
   ]
  },
  {
   "cell_type": "markdown",
   "id": "packed-classic",
   "metadata": {
    "id": "packed-classic"
   },
   "source": [
    "### [B1] Diferencia entre miércoles y sábados para  `'order_hour_of_day'`. Traza gráficos de barra para los dos días y describe las diferencias que veas."
   ]
  },
  {
   "cell_type": "code",
   "execution_count": 48,
   "id": "d89b8403",
   "metadata": {
    "id": "d89b8403"
   },
   "outputs": [
    {
     "data": {
      "text/plain": [
       "<Axes: title={'center': 'Distribución de las órdenes los miércoles'}, xlabel='Horas del día', ylabel='Cantidad de clientes'>"
      ]
     },
     "execution_count": 48,
     "metadata": {},
     "output_type": "execute_result"
    },
    {
     "data": {
      "image/png": "[encoded data removed]",
      "text/plain": [
       "<Figure size 1000x400 with 1 Axes>"
      ]
     },
     "metadata": {},
     "output_type": "display_data"
    }
   ],
   "source": [
    "# Dada la leyenda en la descripción , el día miércoles corresponde al 3\n",
    "df_instacar_orders[df_instacar_orders['order_dow'] == 3].groupby(['order_hour_of_day'])['user_id'].count().plot( x='order_hour_of_day',\n",
    "        y='user_id',\n",
    "        kind='bar',\n",
    "        title='Distribución de las órdenes los miércoles',\n",
    "        xlabel='Horas del día',\n",
    "        ylabel='Cantidad de clientes',  legend=False, rot=0,         \n",
    "        figsize=[10, 4])"
   ]
  },
  {
   "cell_type": "code",
   "execution_count": 49,
   "id": "94e54e8a",
   "metadata": {
    "id": "94e54e8a"
   },
   "outputs": [
    {
     "data": {
      "text/plain": [
       "<Axes: title={'center': 'Distribución de las órdenes los sábado'}, xlabel='Horas del día ', ylabel='Cantidad de clientes'>"
      ]
     },
     "execution_count": 49,
     "metadata": {},
     "output_type": "execute_result"
    },
    {
     "data": {
      "image/png": "[encoded data removed]",
      "text/plain": [
       "<Figure size 1000x400 with 1 Axes>"
      ]
     },
     "metadata": {},
     "output_type": "display_data"
    }
   ],
   "source": [
    "# Dada la leyenda en la descripción, el día sábado corresponde al 6.\n",
    "df_instacar_orders[df_instacar_orders['order_dow'] == 6].groupby(['order_hour_of_day'])['user_id'].count().plot( x='order_hour_of_day',\n",
    "        y='user_id',\n",
    "        kind='bar',\n",
    "        title='Distribución de las órdenes los sábado',\n",
    "        xlabel='Horas del día ',\n",
    "        ylabel='Cantidad de clientes',  legend=False, rot=0,        \n",
    "        figsize=[10, 4])"
   ]
  },
  {
   "cell_type": "code",
   "execution_count": null,
   "id": "797c90a8",
   "metadata": {
    "id": "797c90a8"
   },
   "outputs": [],
   "source": []
  },
  {
   "cell_type": "code",
   "execution_count": null,
   "id": "35bcea30",
   "metadata": {
    "id": "35bcea30"
   },
   "outputs": [],
   "source": []
  },
  {
   "cell_type": "code",
   "execution_count": 50,
   "id": "82580df6",
   "metadata": {},
   "outputs": [
    {
     "data": {
      "image/png": "[encoded data removed]",
      "text/plain": [
       "<Figure size 1200x500 with 1 Axes>"
      ]
     },
     "metadata": {},
     "output_type": "display_data"
    }
   ],
   "source": [
    "plt.style.use('ggplot')\n",
    "x = df_instacar_orders[df_instacar_orders['order_dow'] == 3].groupby(['order_hour_of_day'])['user_id'].count()\n",
    "y = df_instacar_orders[df_instacar_orders['order_dow'] == 6].groupby(['order_hour_of_day'])['user_id'].count()\n",
    "labels =  0, 1,2,3,4,5,6,7,8,9, 10,11,12,13,14,15,16,17,18,19,20,21,22,23\n",
    "dataa = {'miércoles': x,\n",
    "        'sábado': y,\n",
    "        'axis': labels\n",
    "       }\n",
    "df = pd.DataFrame(dataa)\n",
    "ax = df[['miércoles','sábado']].plot(kind='bar', title =\"Distribución de las órdenes los miércoles y sábados\",figsize=(12,5),legend=True, fontsize=12)\n",
    "ax.set_xlabel(\"Horas del día\",fontsize=12)\n",
    "ax.set_ylabel(\"Cantidad de órdenes\",fontsize=12)\n",
    "plt.setp(ax.get_xticklabels(), rotation=0, horizontalalignment='right')\n",
    "plt.show()"
   ]
  },
  {
   "cell_type": "markdown",
   "id": "charitable-congo",
   "metadata": {
    "id": "charitable-congo"
   },
   "source": [
    "Escribe aquí tus conclusiones\n",
    "\n",
    "A partir del análisis de ambos gráficos de barra en la misma figura se aprecia que existen muy pocas diferencias entre las órdenes del miércoles y las del sábado, lo cual se traduciría en que los clientes realizan aproximadamente la misma cantidad de órdenes y/o pedidos en las mismas horas en esos días señalados, salvo en las horas 6, 7, 9, 10, 18, 19 y 20, en las que los pedidos del miércoles son ligeramente superiores a los del sábado, y en las horas 11, 12, 13 y 14, los pedidos del sábado superan a los del miércoles."
   ]
  },
  {
   "cell_type": "code",
   "execution_count": null,
   "id": "ce399387",
   "metadata": {},
   "outputs": [],
   "source": []
  },
  {
   "cell_type": "markdown",
   "id": "e3891143",
   "metadata": {
    "id": "e3891143"
   },
   "source": [
    "### [B2] ¿Cuál es la distribución para el número de pedidos por cliente?"
   ]
  },
  {
   "cell_type": "code",
   "execution_count": 51,
   "id": "d8c26c23",
   "metadata": {
    "id": "d8c26c23"
   },
   "outputs": [
    {
     "data": {
      "image/png": "[encoded data removed]",
      "text/plain": [
       "<Figure size 1200x500 with 1 Axes>"
      ]
     },
     "metadata": {},
     "output_type": "display_data"
    }
   ],
   "source": [
    "plt.style.use('ggplot')\n",
    "a = df_instacar_orders.groupby(['user_id'])['order_id'].count().value_counts()\n",
    "ax = a.plot( kind='bar', title =\"Distribución de número de pedidos por clientes\",figsize=(12,5),legend=True, fontsize=12)\n",
    "ax.set_xlabel(\"Número de pedidos\",fontsize=12)\n",
    "ax.set_ylabel(\"Cantidad de clientes\",fontsize=12)\n",
    "plt.setp(ax.get_xticklabels(), rotation=0, horizontalalignment='right')\n",
    "plt.show()"
   ]
  },
  {
   "cell_type": "code",
   "execution_count": null,
   "id": "00e69a66",
   "metadata": {
    "id": "00e69a66"
   },
   "outputs": [],
   "source": []
  },
  {
   "cell_type": "markdown",
   "id": "d2eff7d5",
   "metadata": {
    "id": "d2eff7d5"
   },
   "source": [
    "Escribe aquí tus conclusiones\n",
    "\n",
    "El gráfico muestra por cada usuario la cantidad de órdenes, y a partir del cliente con 28 órdenes va disminuyendo sucesivamente de foma escalonada, a razón de 18 clientes en los primeros escalones, luego se estabiliza el gráfico en los clientes con 21 órdenes, que es la cantidad menor de órdenes que tienen los clientes. La distribución es asimétrica positiva."
   ]
  },
  {
   "cell_type": "markdown",
   "id": "54a0319c",
   "metadata": {
    "id": "54a0319c"
   },
   "source": [
    "### [B3] ¿Cuáles son los 20 productos más populares (muestra su ID y nombre)?"
   ]
  },
  {
   "cell_type": "code",
   "execution_count": 52,
   "id": "exterior-arizona",
   "metadata": {
    "id": "exterior-arizona",
    "scrolled": true
   },
   "outputs": [
    {
     "data": {
      "text/plain": [
       "24851                      banana\n",
       "13175      bag of organic bananas\n",
       "21136        organic strawberries\n",
       "21902        organic baby spinach\n",
       "47208        organic hass avocado\n",
       "47765             organic avocado\n",
       "47625                 large lemon\n",
       "16796                strawberries\n",
       "26208                       limes\n",
       "27844          organic whole milk\n",
       "27965         organic raspberries\n",
       "22934        organic yellow onion\n",
       "24963              organic garlic\n",
       "45006            organic zucchini\n",
       "39274         organic blueberries\n",
       "49682              cucumber kirby\n",
       "28203          organic fuji apple\n",
       "5875                organic lemon\n",
       "8276     apple honeycrisp organic\n",
       "40705      organic grape tomatoes\n",
       "Name: product_name, dtype: object"
      ]
     },
     "execution_count": 52,
     "metadata": {},
     "output_type": "execute_result"
    }
   ],
   "source": [
    "df_products['Newcount'] = df_products['product_id'].map(df_order_products['product_id'].value_counts()) \n",
    "df= df_products.sort_values(by='Newcount', ascending=False).head(20)\n",
    "df['product_name']"
   ]
  },
  {
   "cell_type": "markdown",
   "id": "7df00f47",
   "metadata": {
    "id": "7df00f47"
   },
   "source": [
    "Escribe aquí tus conclusiones\n",
    "\n",
    "De los datos obtenidos se puede observar que la mayoría de los 20 primeros productos que a su vez son los que tienen más órdenes de compra son frutos, lo cual se traduce en que existe un fuerte interés de los clientes en la adquisición de frutos y alimentos sanos para la salud, y que es un indicativo que los clientes se interesan por incluir productos naturales en sus comidas."
   ]
  },
  {
   "cell_type": "markdown",
   "id": "gross-theme",
   "metadata": {
    "id": "gross-theme"
   },
   "source": [
    "# [C] Difícil (deben completarse todos para aprobar)\n",
    "\n",
    "1. ¿Cuántos artículos suelen comprar las personas en un pedido? ¿Cómo es la distribución?\n",
    "2. ¿Cuáles son los 20 principales artículos que vuelven a pedirse con mayor frecuencia (muestra sus nombres e IDs de los productos)?\n",
    "3. Para cada producto, ¿cuál es la tasa de repetición del pedido (número de repeticiones de pedido/total de pedidos?\n",
    "4. Para cada cliente, ¿qué proporción de los productos que pidió ya los había pedido? Calcula la tasa de repetición de pedido para cada usuario en lugar de para cada producto.\n",
    "5. ¿Cuáles son los 20 principales artículos que la gente pone primero en sus carritos (muestra las IDs de los productos, sus nombres, y el número de veces en que fueron el primer artículo en añadirse al carrito)?"
   ]
  },
  {
   "cell_type": "markdown",
   "id": "romantic-deposit",
   "metadata": {
    "id": "romantic-deposit"
   },
   "source": [
    "### [C1] ¿Cuántos artículos compran normalmente las personas en un pedido? ¿Cómo es la distribución?"
   ]
  },
  {
   "cell_type": "code",
   "execution_count": 53,
   "id": "virtual-punch",
   "metadata": {
    "id": "virtual-punch"
   },
   "outputs": [
    {
     "data": {
      "text/plain": [
       "10.098983215049127"
      ]
     },
     "execution_count": 53,
     "metadata": {},
     "output_type": "execute_result"
    }
   ],
   "source": [
    "value = df_order_products.groupby(['order_id'])['order_id'].count().mean()\n",
    "value"
   ]
  },
  {
   "cell_type": "code",
   "execution_count": 54,
   "id": "4c379189",
   "metadata": {},
   "outputs": [],
   "source": [
    "df_order_products_result = df_order_products.groupby(['order_id']).count().reset_index()"
   ]
  },
  {
   "cell_type": "code",
   "execution_count": 55,
   "id": "sensitive-breathing",
   "metadata": {
    "id": "sensitive-breathing"
   },
   "outputs": [
    {
     "name": "stderr",
     "output_type": "stream",
     "text": [
      "C:\\Users\\USUARIO\\AppData\\Local\\Temp\\ipykernel_32664\\995175039.py:4: UserWarning: \n",
      "\n",
      "`distplot` is a deprecated function and will be removed in seaborn v0.14.0.\n",
      "\n",
      "Please adapt your code to use either `displot` (a figure-level function with\n",
      "similar flexibility) or `histplot` (an axes-level function for histograms).\n",
      "\n",
      "For a guide to updating your code to use the new functions, please see\n",
      "https://gist.github.com/mwaskom/de44147ed2974457ad6372750bbe5751\n",
      "\n",
      "  sns.distplot(df_order_products_result[\"reordered\"], bins = 100, color='red', ax=ax)\n"
     ]
    },
    {
     "data": {
      "image/png": "[encoded data removed]",
      "text/plain": [
       "<Figure size 1400x600 with 1 Axes>"
      ]
     },
     "metadata": {},
     "output_type": "display_data"
    }
   ],
   "source": [
    "plt.style.use('ggplot')\n",
    "fig, ax = plt.subplots()\n",
    "fig.set_size_inches(14, 6)\n",
    "sns.distplot(df_order_products_result[\"reordered\"], bins = 100, color='red', ax=ax)\n",
    "ax.set_xlabel(\"Cantidad de productos\",fontsize=12)\n",
    "ax.set_ylabel(\"Órdenes\",fontsize=12)\n",
    "plt.title(\"Cantidad de productos por órdenes\")  \n",
    "plt.show()"
   ]
  },
  {
   "cell_type": "code",
   "execution_count": 56,
   "id": "completed-frank",
   "metadata": {
    "id": "completed-frank"
   },
   "outputs": [
    {
     "data": {
      "image/png": "[encoded data removed]",
      "text/plain": [
       "<Figure size 1200x600 with 1 Axes>"
      ]
     },
     "metadata": {},
     "output_type": "display_data"
    }
   ],
   "source": [
    "plt.style.use('ggplot')\n",
    "fig, ax = plt.subplots()\n",
    "fig.set_size_inches(12, 6)\n",
    "ax.set_xlabel(\"Cantidad de clientes\",fontsize=12)\n",
    "ax.set_ylabel(\"Cantidad de artículos en compras\",fontsize=12)\n",
    "df_order_products_result['reordered'].plot()\n",
    "plt.title(\"Cantidad de artículos en compras de los clientes\") \n",
    "plt.show()"
   ]
  },
  {
   "cell_type": "code",
   "execution_count": 57,
   "id": "5aef7145",
   "metadata": {},
   "outputs": [
    {
     "name": "stdout",
     "output_type": "stream",
     "text": [
      "Min value:   1\n",
      "Max value:  127\n"
     ]
    }
   ],
   "source": [
    "print(\"Min value:  \", df_order_products_result['reordered'].min())\n",
    "print(\"Max value: \", df_order_products_result['reordered'].max())"
   ]
  },
  {
   "cell_type": "markdown",
   "id": "designed-mortality",
   "metadata": {
    "id": "designed-mortality"
   },
   "source": [
    "Escribe aquí tus conclusiones\n",
    "\n",
    "Del gráfico se puede apreciar que existe una distribución asimétrica y positiva. En la cola de la distribución se encuentra un pequeño grupo de clientes que tiene una cantidad de órdenes superior al resto, y que comprenden aquellos con una cantid de órdenes por encima de 80 y hasta 127, mientras que la mayoría de los clientes se concentran en el segmento comprendido entre 1 a 60 órdenes. "
   ]
  },
  {
   "cell_type": "markdown",
   "id": "5e6b5537",
   "metadata": {
    "id": "5e6b5537"
   },
   "source": [
    "### [C2] ¿Cuáles son los 20 principales artículos que vuelven a pedirse con mayor frecuencia (muestra sus nombres e IDs de los productos)?"
   ]
  },
  {
   "cell_type": "code",
   "execution_count": 58,
   "id": "9374e55a",
   "metadata": {
    "id": "9374e55a"
   },
   "outputs": [],
   "source": [
    "mis_booleans = (df_order_products['reordered']==1 )\n",
    "ddf = df_order_products[mis_booleans].groupby('product_id')['reordered'].sum()\n",
    "ddf = ddf.sort_values(ascending = False)\n",
    "ddf = ddf.iloc[0:20].reset_index()\n",
    "#ddf"
   ]
  },
  {
   "cell_type": "code",
   "execution_count": null,
   "id": "48dd3658",
   "metadata": {
    "id": "48dd3658"
   },
   "outputs": [],
   "source": []
  },
  {
   "cell_type": "markdown",
   "id": "80e70c74",
   "metadata": {
    "id": "80e70c74"
   },
   "source": [
    "Escribe aquí tus conclusiones\n",
    "\n",
    "Al observar los 20 principales productos obtenidos que se consumen con  mayor frecuencia, se aprecia que todos son frutas y vegetales, lo cual denota el interés de los consumidores por este tipo de productos.    "
   ]
  },
  {
   "cell_type": "code",
   "execution_count": 59,
   "id": "adaab852",
   "metadata": {},
   "outputs": [
    {
     "data": {
      "text/html": [
       "<div>\n",
       "<style scoped>\n",
       "    .dataframe tbody tr th:only-of-type {\n",
       "        vertical-align: middle;\n",
       "    }\n",
       "\n",
       "    .dataframe tbody tr th {\n",
       "        vertical-align: top;\n",
       "    }\n",
       "\n",
       "    .dataframe thead th {\n",
       "        text-align: right;\n",
       "    }\n",
       "</style>\n",
       "<table border=\"1\" class=\"dataframe\">\n",
       "  <thead>\n",
       "    <tr style=\"text-align: right;\">\n",
       "      <th></th>\n",
       "      <th>product_name</th>\n",
       "      <th>reordered</th>\n",
       "    </tr>\n",
       "  </thead>\n",
       "  <tbody>\n",
       "    <tr>\n",
       "      <th>0</th>\n",
       "      <td>banana</td>\n",
       "      <td>55763</td>\n",
       "    </tr>\n",
       "    <tr>\n",
       "      <th>1</th>\n",
       "      <td>bag of organic bananas</td>\n",
       "      <td>44450</td>\n",
       "    </tr>\n",
       "    <tr>\n",
       "      <th>2</th>\n",
       "      <td>organic strawberries</td>\n",
       "      <td>28639</td>\n",
       "    </tr>\n",
       "    <tr>\n",
       "      <th>3</th>\n",
       "      <td>organic baby spinach</td>\n",
       "      <td>26233</td>\n",
       "    </tr>\n",
       "    <tr>\n",
       "      <th>4</th>\n",
       "      <td>organic hass avocado</td>\n",
       "      <td>23629</td>\n",
       "    </tr>\n",
       "    <tr>\n",
       "      <th>5</th>\n",
       "      <td>organic avocado</td>\n",
       "      <td>18743</td>\n",
       "    </tr>\n",
       "    <tr>\n",
       "      <th>6</th>\n",
       "      <td>organic whole milk</td>\n",
       "      <td>16251</td>\n",
       "    </tr>\n",
       "    <tr>\n",
       "      <th>7</th>\n",
       "      <td>large lemon</td>\n",
       "      <td>15044</td>\n",
       "    </tr>\n",
       "    <tr>\n",
       "      <th>8</th>\n",
       "      <td>organic raspberries</td>\n",
       "      <td>14748</td>\n",
       "    </tr>\n",
       "    <tr>\n",
       "      <th>9</th>\n",
       "      <td>strawberries</td>\n",
       "      <td>13945</td>\n",
       "    </tr>\n",
       "    <tr>\n",
       "      <th>10</th>\n",
       "      <td>limes</td>\n",
       "      <td>13327</td>\n",
       "    </tr>\n",
       "    <tr>\n",
       "      <th>11</th>\n",
       "      <td>organic yellow onion</td>\n",
       "      <td>11145</td>\n",
       "    </tr>\n",
       "    <tr>\n",
       "      <th>12</th>\n",
       "      <td>organic garlic</td>\n",
       "      <td>10411</td>\n",
       "    </tr>\n",
       "    <tr>\n",
       "      <th>13</th>\n",
       "      <td>organic zucchini</td>\n",
       "      <td>10076</td>\n",
       "    </tr>\n",
       "    <tr>\n",
       "      <th>14</th>\n",
       "      <td>cucumber kirby</td>\n",
       "      <td>9538</td>\n",
       "    </tr>\n",
       "    <tr>\n",
       "      <th>15</th>\n",
       "      <td>organic fuji apple</td>\n",
       "      <td>8989</td>\n",
       "    </tr>\n",
       "    <tr>\n",
       "      <th>16</th>\n",
       "      <td>apple honeycrisp organic</td>\n",
       "      <td>8836</td>\n",
       "    </tr>\n",
       "    <tr>\n",
       "      <th>17</th>\n",
       "      <td>organic blueberries</td>\n",
       "      <td>8799</td>\n",
       "    </tr>\n",
       "    <tr>\n",
       "      <th>18</th>\n",
       "      <td>organic lemon</td>\n",
       "      <td>8412</td>\n",
       "    </tr>\n",
       "    <tr>\n",
       "      <th>19</th>\n",
       "      <td>organic half &amp; half</td>\n",
       "      <td>8389</td>\n",
       "    </tr>\n",
       "  </tbody>\n",
       "</table>\n",
       "</div>"
      ],
      "text/plain": [
       "                product_name  reordered\n",
       "0                     banana      55763\n",
       "1     bag of organic bananas      44450\n",
       "2       organic strawberries      28639\n",
       "3       organic baby spinach      26233\n",
       "4       organic hass avocado      23629\n",
       "5            organic avocado      18743\n",
       "6         organic whole milk      16251\n",
       "7                large lemon      15044\n",
       "8        organic raspberries      14748\n",
       "9               strawberries      13945\n",
       "10                     limes      13327\n",
       "11      organic yellow onion      11145\n",
       "12            organic garlic      10411\n",
       "13          organic zucchini      10076\n",
       "14            cucumber kirby       9538\n",
       "15        organic fuji apple       8989\n",
       "16  apple honeycrisp organic       8836\n",
       "17       organic blueberries       8799\n",
       "18             organic lemon       8412\n",
       "19       organic half & half       8389"
      ]
     },
     "execution_count": 59,
     "metadata": {},
     "output_type": "execute_result"
    }
   ],
   "source": [
    "df_result = ddf.merge(df_products, on= 'product_id', how = 'left') \n",
    "df_result[['product_name','reordered']]"
   ]
  },
  {
   "cell_type": "markdown",
   "id": "9d312b14",
   "metadata": {
    "id": "9d312b14"
   },
   "source": [
    "### [C3] Para cada producto, ¿cuál es la proporción de las veces que se pide y que se vuelve a pedir?"
   ]
  },
  {
   "cell_type": "code",
   "execution_count": 60,
   "id": "8ae9f4b1",
   "metadata": {
    "id": "8ae9f4b1"
   },
   "outputs": [],
   "source": []
  },
  {
   "cell_type": "code",
   "execution_count": 61,
   "id": "social-individual",
   "metadata": {
    "id": "social-individual"
   },
   "outputs": [
    {
     "data": {
      "text/plain": [
       "product_name\n",
       "#2 coffee filters                                    0.254545\n",
       "#2 cone white coffee filters                         0.000000\n",
       "#2 mechanical pencils                                0.000000\n",
       "#4 natural brown coffee filters                      0.358974\n",
       "& go! hazelnut spread + pretzel sticks               0.466667\n",
       "                                                       ...   \n",
       "zzzquil alcohol-free nighttime liquid sleep aid      0.200000\n",
       "zzzquil liquid warming berry flavor sleep-aid        0.285714\n",
       "zzzquil nighttime liquid sleep-aid twin pack         0.636364\n",
       "zzzquil nighttime sleep-aid liquicaps                0.454545\n",
       "zzzquil vanilla cherry nighttime liquid sleep aid    1.000000\n",
       "Name: reordered, Length: 44518, dtype: float64"
      ]
     },
     "execution_count": 61,
     "metadata": {},
     "output_type": "execute_result"
    }
   ],
   "source": [
    "df_result = df_order_products.merge(df_products, on= 'product_id', how = 'left') \n",
    "fraction_df = df_result.groupby('product_name')['reordered'].mean()\n",
    "\n",
    "fraction_df  "
   ]
  },
  {
   "cell_type": "markdown",
   "id": "I10dEIAyldcO",
   "metadata": {
    "id": "I10dEIAyldcO"
   },
   "source": [
    "Escribe aquí tus conclusiones\n",
    "\n",
    "Lugo de observar la proporción de los productos que se solicitan reiteradamente, el producto banana sobresale con el 14.676 %, siendo este el más solicitado. "
   ]
  },
  {
   "cell_type": "markdown",
   "id": "subject-boxing",
   "metadata": {
    "id": "subject-boxing"
   },
   "source": [
    "### [C4] Para cada cliente, ¿qué proporción de sus productos ya los había pedido?"
   ]
  },
  {
   "cell_type": "code",
   "execution_count": 62,
   "id": "medical-couple",
   "metadata": {
    "id": "medical-couple",
    "scrolled": true
   },
   "outputs": [
    {
     "data": {
      "text/plain": [
       "user_id\n",
       "3639      82.0\n",
       "22836     63.0\n",
       "22906     68.0\n",
       "24586     68.0\n",
       "60694     70.0\n",
       "67094     68.0\n",
       "126266    64.0\n",
       "129928    80.5\n",
       "137785    73.0\n",
       "166743    66.0\n",
       "166951    62.0\n",
       "181991    68.5\n",
       "186704    67.0\n",
       "201268    92.5\n",
       "Name: reordered, dtype: float64"
      ]
     },
     "execution_count": 62,
     "metadata": {},
     "output_type": "execute_result"
    }
   ],
   "source": [
    "ddf = df_order_products[mis_booleans].groupby('order_id')['reordered'].sum()\n",
    "ddf = ddf.sort_values(ascending = False)\n",
    "ddf = ddf.iloc[0:20].reset_index()\n",
    "df_result = ddf.merge(df_instacar_orders, on= 'order_id', how = 'left') \n",
    "fraction_df = df_result.groupby('user_id')['reordered'].mean()\n",
    "fraction_df "
   ]
  },
  {
   "cell_type": "code",
   "execution_count": null,
   "id": "8892e4b4",
   "metadata": {
    "id": "8892e4b4"
   },
   "outputs": [],
   "source": []
  },
  {
   "cell_type": "markdown",
   "id": "BgJSvXDsleXz",
   "metadata": {
    "id": "BgJSvXDsleXz"
   },
   "source": [
    "Escribe aquí tus conclusiones\n",
    "\n",
    "Al obtener la proporción de los productos por cliente, se puede observar que existen 5910 clientes que sus productos ya los habían solicitado en su totalidad, sin embargo la mayoría de los clientes tienen una proporción de productos que ya habían pedido entre 1 a un 30 %.\n"
   ]
  },
  {
   "cell_type": "markdown",
   "id": "92d35137",
   "metadata": {
    "id": "92d35137"
   },
   "source": [
    "### [C5] ¿Cuáles son los 20 principales artículos que las personas ponen primero en sus carritos?"
   ]
  },
  {
   "cell_type": "code",
   "execution_count": 63,
   "id": "0ae57274",
   "metadata": {
    "id": "0ae57274",
    "scrolled": true
   },
   "outputs": [
    {
     "data": {
      "text/plain": [
       "product_name\n",
       "banana                      6380\n",
       "bag of organic bananas      5354\n",
       "organic strawberries        3578\n",
       "organic baby spinach        3335\n",
       "organic hass avocado        2923\n",
       "organic avocado             2394\n",
       "large lemon                 2145\n",
       "strawberries                1958\n",
       "limes                       1941\n",
       "organic whole milk          1935\n",
       "organic raspberries         1882\n",
       "organic yellow onion        1669\n",
       "organic garlic              1584\n",
       "organic zucchini            1435\n",
       "organic blueberries         1404\n",
       "cucumber kirby              1311\n",
       "organic lemon               1234\n",
       "organic fuji apple          1227\n",
       "organic grape tomatoes      1196\n",
       "apple honeycrisp organic    1175\n",
       "Name: product_id, dtype: int64"
      ]
     },
     "execution_count": 63,
     "metadata": {},
     "output_type": "execute_result"
    }
   ],
   "source": [
    "df_merged = df_products.merge(df_order_products)\n",
    "mis_booleans = df_order_products['add_to_cart_order']==1 \n",
    "top_20 = df_merged[mis_booleans].groupby('product_name')['product_id'].count().sort_values(ascending=False).head(20)\n",
    "top_20"
   ]
  },
  {
   "cell_type": "code",
   "execution_count": null,
   "id": "08e41ec2",
   "metadata": {
    "id": "08e41ec2"
   },
   "outputs": [],
   "source": []
  },
  {
   "cell_type": "markdown",
   "id": "28ce9872",
   "metadata": {
    "id": "28ce9872"
   },
   "source": [
    "Escribe aquí tus conclusiones\n",
    "\n",
    "De los principales artículos que las personas colocan primero en sus carritos de compra, se encuentran, productos de comida como son Spaghetti Style Pasta, Organic Rosemary, Simply Maize Cereal, Irish Aged Cheddar Cheese, entre otros, pero también artículos de otra índole, como son Pull Ups Girls Learning Designs Training Pants, no obstante, en su mayoría son productos de comida.   "
   ]
  },
  {
   "cell_type": "markdown",
   "id": "uITbFCEoDosC",
   "metadata": {
    "id": "uITbFCEoDosC"
   },
   "source": [
    "### Conclusion general del proyecto:"
   ]
  },
  {
   "cell_type": "markdown",
   "id": "b45a711b",
   "metadata": {
    "id": "Nk-4GS7mDwqY"
   },
   "source": [
    "Las conclusiones generales a las que se llega en el presente proyecto son:\n",
    "\n",
    "1. La cantidad promedio de productos comprados por los clientes es 10. En el gráfico asociado a esta pregunta se puede apreciar que existe una distribución asimétrica y positiva. En la gráfica se encuentra un pequeño grupo de clientes que tiene una cantidad de productos superior al resto entre 80 a 127 órdenes y se localiza en la cola de la distribución, mientras que la mayoría de los clientes se concentran en el segmento comprendido entre 1 a 60 órdenes. \n",
    "\n",
    "2. Al observar los 20 principales productos obtenidos consumidos con mayor frecuencia, se aprecia que todos son frutas y vegetales, lo cual denota el interés de los consumidores por este tipo de productos.    \n",
    "\n",
    "3. Lugo de observar la proporción de los productos que se solicitan reiteradamente, el producto banana sobresale con el 14.6 %, siendo este el más solicitado. \n",
    "\n",
    "4. Al obtener la proporción de los productos por cliente, se puede observar que existen 20 clientes que sus productos ya los habían solicitado en su totalidad, sin embargo, la mayoría de los clientes tienen una proporción de productos que ya habían pedido entre el 1 y el 30 %.\n",
    "\n",
    "5. De los principales artículos que las personas colocan primero en sus carritos de compra, se encuentran productos de comida como son: Spaghetti Style Pasta, Organic Rosemary, Simply Maize Cereal, Irish Aged Cheddar Cheese, entre otros, pero también artículos de otra índole, como son Pull Ups Girls Learning Designs Training Pants, no obstante, en su mayoría son productos de comida."
   ]
  }
 ],
 "metadata": {
  "colab": {
   "provenance": []
  },
  "kernelspec": {
   "display_name": "Python 3 (ipykernel)",
   "language": "python",
   "name": "python3"
  },
  "language_info": {
   "codemirror_mode": {
    "name": "ipython",
    "version": 3
   },
   "file_extension": ".py",
   "mimetype": "text/x-python",
   "name": "python",
   "nbconvert_exporter": "python",
   "pygments_lexer": "ipython3",
   "version": "3.10.9"
  },
  "toc": {
   "base_numbering": 1,
   "nav_menu": {},
   "number_sections": true,
   "sideBar": true,
   "skip_h1_title": true,
   "title_cell": "Table of Contents",
   "title_sidebar": "Contents",
   "toc_cell": false,
   "toc_position": {},
   "toc_section_display": true,
   "toc_window_display": false
  },
  "vscode": {
   "interpreter": {
    "hash": "01a7be9ec63e704a62cefc5fe7a4756944464ee731be31632bdf42a4cb4688cf"
   }
  }
 },
 "nbformat": 4,
 "nbformat_minor": 5
}
